{
 "cells": [
  {
   "cell_type": "code",
   "execution_count": 1,
   "id": "9c07b4f5",
   "metadata": {
    "execution": {
     "iopub.execute_input": "2022-07-17T04:10:30.206220Z",
     "iopub.status.busy": "2022-07-17T04:10:30.205471Z",
     "iopub.status.idle": "2022-07-17T04:10:30.225125Z",
     "shell.execute_reply": "2022-07-17T04:10:30.223642Z"
    },
    "papermill": {
     "duration": 0.042727,
     "end_time": "2022-07-17T04:10:30.228964",
     "exception": false,
     "start_time": "2022-07-17T04:10:30.186237",
     "status": "completed"
    },
    "tags": []
   },
   "outputs": [
    {
     "name": "stdout",
     "output_type": "stream",
     "text": [
      "/kaggle/input/heart-failure-prediction/heart.csv\n"
     ]
    }
   ],
   "source": [
    "# This Python 3 environment comes with many helpful analytics libraries installed\n",
    "# It is defined by the kaggle/python Docker image: https://github.com/kaggle/docker-python\n",
    "# For example, here's several helpful packages to load\n",
    "\n",
    "import numpy as np # linear algebra\n",
    "import pandas as pd # data processing, CSV file I/O (e.g. pd.read_csv)\n",
    "\n",
    "# Input data files are available in the read-only \"../input/\" directory\n",
    "# For example, running this (by clicking run or pressing Shift+Enter) will list all files under the input directory\n",
    "\n",
    "import os\n",
    "for dirname, _, filenames in os.walk('/kaggle/input'):\n",
    "    for filename in filenames:\n",
    "        print(os.path.join(dirname, filename))\n",
    "\n",
    "# You can write up to 20GB to the current directory (/kaggle/working/) that gets preserved as output when you create a version using \"Save & Run All\" \n",
    "# You can also write temporary files to /kaggle/temp/, but they won't be saved outside of the current session"
   ]
  },
  {
   "cell_type": "markdown",
   "id": "a468533b",
   "metadata": {
    "papermill": {
     "duration": 0.015685,
     "end_time": "2022-07-17T04:10:30.266584",
     "exception": false,
     "start_time": "2022-07-17T04:10:30.250899",
     "status": "completed"
    },
    "tags": []
   },
   "source": [
    "<div style=\"color:white;background-color:Fuchsia;padding:3%;border-radius:150px 150px;font-size:1.5em;text-align:center\"> <font color=\"White\" size=+2.5 face=\"Lucida Calligraphy\"><div style=\"align:center: justify\">Evaluation Metrics in ML/AI for Classification </font></div>"
   ]
  },
  {
   "cell_type": "markdown",
   "id": "1afbba2d",
   "metadata": {
    "papermill": {
     "duration": 0.016243,
     "end_time": "2022-07-17T04:10:30.301396",
     "exception": false,
     "start_time": "2022-07-17T04:10:30.285153",
     "status": "completed"
    },
    "tags": []
   },
   "source": [
    "<font color=\"Fuchsia\"><h1 style=\"text-align: justify; font-family: 'Lucida Calligraphy'; font-size:30px; color:Fuchsia\"> Introduction  </h1>"
   ]
  },
  {
   "cell_type": "markdown",
   "id": "268558be",
   "metadata": {
    "papermill": {
     "duration": 0.01235,
     "end_time": "2022-07-17T04:10:30.326694",
     "exception": false,
     "start_time": "2022-07-17T04:10:30.314344",
     "status": "completed"
    },
    "tags": []
   },
   "source": [
    "<font color=\"Fuchsia\"><h2 style=\"text-align: justify; font-family: 'Lucida Calligraphy'; font-size:25px; color:Fuchsia\"> This notebook aims to:  </h2>"
   ]
  },
  {
   "cell_type": "markdown",
   "id": "66fd8f19",
   "metadata": {
    "papermill": {
     "duration": 0.013149,
     "end_time": "2022-07-17T04:10:30.352790",
     "exception": false,
     "start_time": "2022-07-17T04:10:30.339641",
     "status": "completed"
    },
    "tags": []
   },
   "source": [
    " <div style=\"color:white;\n",
    "           display:fill;\n",
    "           border-radius:5px;\n",
    "           background-color:#5F1666;\n",
    "           font-size:22px;\n",
    "           font-family:Nexa;\n",
    "           letter-spacing:0.5px\">\n",
    "        <p style=\"padding: 15px;\n",
    "              color:white;\">\n",
    "            <b>Explain different types of Evaluation Metrics used in ML/AI</b>\n",
    "        </p>"
   ]
  },
  {
   "cell_type": "markdown",
   "id": "4cc8d1c3",
   "metadata": {
    "papermill": {
     "duration": 0.012715,
     "end_time": "2022-07-17T04:10:30.378803",
     "exception": false,
     "start_time": "2022-07-17T04:10:30.366088",
     "status": "completed"
    },
    "tags": []
   },
   "source": [
    "<font color=\"Fuchsia\"><h1 style=\"text-align: justify; font-family: 'Lucida Calligraphy'; font-size:20px; color:Fuchsia\"> The different types od Evaluation Metrics used in this project are:  </h1>"
   ]
  },
  {
   "cell_type": "markdown",
   "id": "73edaf4f",
   "metadata": {
    "papermill": {
     "duration": 0.012122,
     "end_time": "2022-07-17T04:10:30.403664",
     "exception": false,
     "start_time": "2022-07-17T04:10:30.391542",
     "status": "completed"
    },
    "tags": []
   },
   "source": [
    "1.Confusion Matrix\n",
    "\n",
    "2.Classification Report\n",
    "\n",
    "3.Classification accuracy \n",
    "\n",
    "4.Classification Error\n",
    "\n",
    "5.Precision\n",
    "\n",
    "6.Recall \n",
    "\n",
    "7.True Positive Rate\n",
    "\n",
    "8.True False Positive Rate\n",
    "\n",
    "9.Specificity\n",
    "\n",
    "10.Sensitivity\n",
    "\n",
    "11.F1 Score \n",
    "\n",
    "12.Support \n",
    "\n",
    "13.ROC CUrve\n",
    "\n",
    "14.Precision Recall Curve"
   ]
  },
  {
   "cell_type": "markdown",
   "id": "2726c044",
   "metadata": {
    "papermill": {
     "duration": 0.012195,
     "end_time": "2022-07-17T04:10:30.428571",
     "exception": false,
     "start_time": "2022-07-17T04:10:30.416376",
     "status": "completed"
    },
    "tags": []
   },
   "source": [
    "<font color=\"Fuchsia\"><h1 style=\"text-align: justify; font-family: 'Lucida Calligraphy'; font-size:30px; color:Fuchsia\"> Library Importing  </h1>"
   ]
  },
  {
   "cell_type": "code",
   "execution_count": 2,
   "id": "97e5e1c2",
   "metadata": {
    "execution": {
     "iopub.execute_input": "2022-07-17T04:10:30.455021Z",
     "iopub.status.busy": "2022-07-17T04:10:30.454398Z",
     "iopub.status.idle": "2022-07-17T04:10:31.673412Z",
     "shell.execute_reply": "2022-07-17T04:10:31.672333Z"
    },
    "papermill": {
     "duration": 1.235205,
     "end_time": "2022-07-17T04:10:31.676024",
     "exception": false,
     "start_time": "2022-07-17T04:10:30.440819",
     "status": "completed"
    },
    "tags": []
   },
   "outputs": [],
   "source": [
    "import pandas as pd \n",
    "import numpy as np \n",
    "import seaborn as sns \n",
    "import matplotlib.pyplot as plt \n",
    "%matplotlib inline \n",
    "\n",
    "from sklearn.metrics import plot_confusion_matrix,roc_auc_score, roc_curve, f1_score, accuracy_score\n",
    "from sklearn.metrics import make_scorer, precision_score, precision_recall_curve, plot_precision_recall_curve\n",
    "from sklearn.metrics import recall_score, plot_roc_curve\n",
    "\n",
    "import warnings\n",
    "warnings.filterwarnings('ignore')"
   ]
  },
  {
   "cell_type": "code",
   "execution_count": 3,
   "id": "208b39ea",
   "metadata": {
    "execution": {
     "iopub.execute_input": "2022-07-17T04:10:31.702269Z",
     "iopub.status.busy": "2022-07-17T04:10:31.701858Z",
     "iopub.status.idle": "2022-07-17T04:10:31.707462Z",
     "shell.execute_reply": "2022-07-17T04:10:31.706305Z"
    },
    "papermill": {
     "duration": 0.021049,
     "end_time": "2022-07-17T04:10:31.709573",
     "exception": false,
     "start_time": "2022-07-17T04:10:31.688524",
     "status": "completed"
    },
    "tags": []
   },
   "outputs": [],
   "source": [
    "pd.set_option('display.max_columns',None)\n",
    "pd.set_option('display.max_rows',None)\n",
    "pd.set_option(\"display.precision\", 3)"
   ]
  },
  {
   "cell_type": "code",
   "execution_count": 4,
   "id": "cc56f363",
   "metadata": {
    "execution": {
     "iopub.execute_input": "2022-07-17T04:10:31.735523Z",
     "iopub.status.busy": "2022-07-17T04:10:31.735151Z",
     "iopub.status.idle": "2022-07-17T04:10:31.830579Z",
     "shell.execute_reply": "2022-07-17T04:10:31.829333Z"
    },
    "papermill": {
     "duration": 0.111028,
     "end_time": "2022-07-17T04:10:31.832883",
     "exception": false,
     "start_time": "2022-07-17T04:10:31.721855",
     "status": "completed"
    },
    "tags": []
   },
   "outputs": [
    {
     "data": {
      "text/html": [
       "<style type=\"text/css\">\n",
       "#T_bee3a_row0_col0, #T_bee3a_row0_col1, #T_bee3a_row0_col2, #T_bee3a_row0_col3, #T_bee3a_row0_col4, #T_bee3a_row0_col5, #T_bee3a_row0_col6, #T_bee3a_row0_col7, #T_bee3a_row0_col8, #T_bee3a_row0_col9, #T_bee3a_row0_col10, #T_bee3a_row0_col11, #T_bee3a_row1_col0, #T_bee3a_row1_col1, #T_bee3a_row1_col2, #T_bee3a_row1_col3, #T_bee3a_row1_col4, #T_bee3a_row1_col5, #T_bee3a_row1_col6, #T_bee3a_row1_col7, #T_bee3a_row1_col8, #T_bee3a_row1_col9, #T_bee3a_row1_col10, #T_bee3a_row1_col11, #T_bee3a_row2_col0, #T_bee3a_row2_col1, #T_bee3a_row2_col2, #T_bee3a_row2_col3, #T_bee3a_row2_col4, #T_bee3a_row2_col5, #T_bee3a_row2_col6, #T_bee3a_row2_col7, #T_bee3a_row2_col8, #T_bee3a_row2_col9, #T_bee3a_row2_col10, #T_bee3a_row2_col11, #T_bee3a_row3_col0, #T_bee3a_row3_col1, #T_bee3a_row3_col2, #T_bee3a_row3_col3, #T_bee3a_row3_col4, #T_bee3a_row3_col5, #T_bee3a_row3_col6, #T_bee3a_row3_col7, #T_bee3a_row3_col8, #T_bee3a_row3_col9, #T_bee3a_row3_col10, #T_bee3a_row3_col11, #T_bee3a_row4_col0, #T_bee3a_row4_col1, #T_bee3a_row4_col2, #T_bee3a_row4_col3, #T_bee3a_row4_col4, #T_bee3a_row4_col5, #T_bee3a_row4_col6, #T_bee3a_row4_col7, #T_bee3a_row4_col8, #T_bee3a_row4_col9, #T_bee3a_row4_col10, #T_bee3a_row4_col11 {\n",
       "  background-color: Olive;\n",
       "  color: white;\n",
       "  border-color: darkblack;\n",
       "}\n",
       "</style>\n",
       "<table id=\"T_bee3a_\">\n",
       "  <thead>\n",
       "    <tr>\n",
       "      <th class=\"blank level0\" >&nbsp;</th>\n",
       "      <th class=\"col_heading level0 col0\" >Age</th>\n",
       "      <th class=\"col_heading level0 col1\" >Sex</th>\n",
       "      <th class=\"col_heading level0 col2\" >ChestPainType</th>\n",
       "      <th class=\"col_heading level0 col3\" >RestingBP</th>\n",
       "      <th class=\"col_heading level0 col4\" >Cholesterol</th>\n",
       "      <th class=\"col_heading level0 col5\" >FastingBS</th>\n",
       "      <th class=\"col_heading level0 col6\" >RestingECG</th>\n",
       "      <th class=\"col_heading level0 col7\" >MaxHR</th>\n",
       "      <th class=\"col_heading level0 col8\" >ExerciseAngina</th>\n",
       "      <th class=\"col_heading level0 col9\" >Oldpeak</th>\n",
       "      <th class=\"col_heading level0 col10\" >ST_Slope</th>\n",
       "      <th class=\"col_heading level0 col11\" >HeartDisease</th>\n",
       "    </tr>\n",
       "  </thead>\n",
       "  <tbody>\n",
       "    <tr>\n",
       "      <th id=\"T_bee3a_level0_row0\" class=\"row_heading level0 row0\" >0</th>\n",
       "      <td id=\"T_bee3a_row0_col0\" class=\"data row0 col0\" >40</td>\n",
       "      <td id=\"T_bee3a_row0_col1\" class=\"data row0 col1\" >M</td>\n",
       "      <td id=\"T_bee3a_row0_col2\" class=\"data row0 col2\" >ATA</td>\n",
       "      <td id=\"T_bee3a_row0_col3\" class=\"data row0 col3\" >140</td>\n",
       "      <td id=\"T_bee3a_row0_col4\" class=\"data row0 col4\" >289</td>\n",
       "      <td id=\"T_bee3a_row0_col5\" class=\"data row0 col5\" >0</td>\n",
       "      <td id=\"T_bee3a_row0_col6\" class=\"data row0 col6\" >Normal</td>\n",
       "      <td id=\"T_bee3a_row0_col7\" class=\"data row0 col7\" >172</td>\n",
       "      <td id=\"T_bee3a_row0_col8\" class=\"data row0 col8\" >N</td>\n",
       "      <td id=\"T_bee3a_row0_col9\" class=\"data row0 col9\" >0.000</td>\n",
       "      <td id=\"T_bee3a_row0_col10\" class=\"data row0 col10\" >Up</td>\n",
       "      <td id=\"T_bee3a_row0_col11\" class=\"data row0 col11\" >0</td>\n",
       "    </tr>\n",
       "    <tr>\n",
       "      <th id=\"T_bee3a_level0_row1\" class=\"row_heading level0 row1\" >1</th>\n",
       "      <td id=\"T_bee3a_row1_col0\" class=\"data row1 col0\" >49</td>\n",
       "      <td id=\"T_bee3a_row1_col1\" class=\"data row1 col1\" >F</td>\n",
       "      <td id=\"T_bee3a_row1_col2\" class=\"data row1 col2\" >NAP</td>\n",
       "      <td id=\"T_bee3a_row1_col3\" class=\"data row1 col3\" >160</td>\n",
       "      <td id=\"T_bee3a_row1_col4\" class=\"data row1 col4\" >180</td>\n",
       "      <td id=\"T_bee3a_row1_col5\" class=\"data row1 col5\" >0</td>\n",
       "      <td id=\"T_bee3a_row1_col6\" class=\"data row1 col6\" >Normal</td>\n",
       "      <td id=\"T_bee3a_row1_col7\" class=\"data row1 col7\" >156</td>\n",
       "      <td id=\"T_bee3a_row1_col8\" class=\"data row1 col8\" >N</td>\n",
       "      <td id=\"T_bee3a_row1_col9\" class=\"data row1 col9\" >1.000</td>\n",
       "      <td id=\"T_bee3a_row1_col10\" class=\"data row1 col10\" >Flat</td>\n",
       "      <td id=\"T_bee3a_row1_col11\" class=\"data row1 col11\" >1</td>\n",
       "    </tr>\n",
       "    <tr>\n",
       "      <th id=\"T_bee3a_level0_row2\" class=\"row_heading level0 row2\" >2</th>\n",
       "      <td id=\"T_bee3a_row2_col0\" class=\"data row2 col0\" >37</td>\n",
       "      <td id=\"T_bee3a_row2_col1\" class=\"data row2 col1\" >M</td>\n",
       "      <td id=\"T_bee3a_row2_col2\" class=\"data row2 col2\" >ATA</td>\n",
       "      <td id=\"T_bee3a_row2_col3\" class=\"data row2 col3\" >130</td>\n",
       "      <td id=\"T_bee3a_row2_col4\" class=\"data row2 col4\" >283</td>\n",
       "      <td id=\"T_bee3a_row2_col5\" class=\"data row2 col5\" >0</td>\n",
       "      <td id=\"T_bee3a_row2_col6\" class=\"data row2 col6\" >ST</td>\n",
       "      <td id=\"T_bee3a_row2_col7\" class=\"data row2 col7\" >98</td>\n",
       "      <td id=\"T_bee3a_row2_col8\" class=\"data row2 col8\" >N</td>\n",
       "      <td id=\"T_bee3a_row2_col9\" class=\"data row2 col9\" >0.000</td>\n",
       "      <td id=\"T_bee3a_row2_col10\" class=\"data row2 col10\" >Up</td>\n",
       "      <td id=\"T_bee3a_row2_col11\" class=\"data row2 col11\" >0</td>\n",
       "    </tr>\n",
       "    <tr>\n",
       "      <th id=\"T_bee3a_level0_row3\" class=\"row_heading level0 row3\" >3</th>\n",
       "      <td id=\"T_bee3a_row3_col0\" class=\"data row3 col0\" >48</td>\n",
       "      <td id=\"T_bee3a_row3_col1\" class=\"data row3 col1\" >F</td>\n",
       "      <td id=\"T_bee3a_row3_col2\" class=\"data row3 col2\" >ASY</td>\n",
       "      <td id=\"T_bee3a_row3_col3\" class=\"data row3 col3\" >138</td>\n",
       "      <td id=\"T_bee3a_row3_col4\" class=\"data row3 col4\" >214</td>\n",
       "      <td id=\"T_bee3a_row3_col5\" class=\"data row3 col5\" >0</td>\n",
       "      <td id=\"T_bee3a_row3_col6\" class=\"data row3 col6\" >Normal</td>\n",
       "      <td id=\"T_bee3a_row3_col7\" class=\"data row3 col7\" >108</td>\n",
       "      <td id=\"T_bee3a_row3_col8\" class=\"data row3 col8\" >Y</td>\n",
       "      <td id=\"T_bee3a_row3_col9\" class=\"data row3 col9\" >1.500</td>\n",
       "      <td id=\"T_bee3a_row3_col10\" class=\"data row3 col10\" >Flat</td>\n",
       "      <td id=\"T_bee3a_row3_col11\" class=\"data row3 col11\" >1</td>\n",
       "    </tr>\n",
       "    <tr>\n",
       "      <th id=\"T_bee3a_level0_row4\" class=\"row_heading level0 row4\" >4</th>\n",
       "      <td id=\"T_bee3a_row4_col0\" class=\"data row4 col0\" >54</td>\n",
       "      <td id=\"T_bee3a_row4_col1\" class=\"data row4 col1\" >M</td>\n",
       "      <td id=\"T_bee3a_row4_col2\" class=\"data row4 col2\" >NAP</td>\n",
       "      <td id=\"T_bee3a_row4_col3\" class=\"data row4 col3\" >150</td>\n",
       "      <td id=\"T_bee3a_row4_col4\" class=\"data row4 col4\" >195</td>\n",
       "      <td id=\"T_bee3a_row4_col5\" class=\"data row4 col5\" >0</td>\n",
       "      <td id=\"T_bee3a_row4_col6\" class=\"data row4 col6\" >Normal</td>\n",
       "      <td id=\"T_bee3a_row4_col7\" class=\"data row4 col7\" >122</td>\n",
       "      <td id=\"T_bee3a_row4_col8\" class=\"data row4 col8\" >N</td>\n",
       "      <td id=\"T_bee3a_row4_col9\" class=\"data row4 col9\" >0.000</td>\n",
       "      <td id=\"T_bee3a_row4_col10\" class=\"data row4 col10\" >Up</td>\n",
       "      <td id=\"T_bee3a_row4_col11\" class=\"data row4 col11\" >0</td>\n",
       "    </tr>\n",
       "  </tbody>\n",
       "</table>\n"
      ],
      "text/plain": [
       "<pandas.io.formats.style.Styler at 0x7fb6e242d790>"
      ]
     },
     "execution_count": 4,
     "metadata": {},
     "output_type": "execute_result"
    }
   ],
   "source": [
    "heart = pd.read_csv('../input/heart-failure-prediction/heart.csv')\n",
    "heart.head().style.set_properties(**{'background-color': 'Olive',\n",
    "                           'color': 'white',\n",
    "                           'border-color': 'darkblack'})"
   ]
  },
  {
   "cell_type": "markdown",
   "id": "d296e773",
   "metadata": {
    "papermill": {
     "duration": 0.012307,
     "end_time": "2022-07-17T04:10:31.857788",
     "exception": false,
     "start_time": "2022-07-17T04:10:31.845481",
     "status": "completed"
    },
    "tags": []
   },
   "source": [
    "<font color=\"DarkGreen\" size=+2 face=\"Lucida Calligraphy\"><div style=\"text-align: justify\"> Attributes:</font>\n",
    "    \n",
    "- **Age:** Age of the patient [years]\n",
    "    \n",
    "- **Sex:** Sex of the patient [M: Male, F: Female]\n",
    "    \n",
    "- **ChestPainType:** Chest Pain Type [TA: Typical Angina, ATA: Atypical Angina, NAP: Non-Anginal Pain, ASY: Asymptomatic]\n",
    "\n",
    "- **RestingBP:** Resting blood pressure [mm Hg]\n",
    "\n",
    "- **Cholesterol:** Serum cholesterol [mm/dl]\n",
    "    \n",
    "- **FastingBS:** Fasting blood sugar [1: if FastingBS > 120 mg/dl, 0: otherwise]\n",
    "    \n",
    "- **RestingECG**: Resting electrocardiogram results [Normal: Normal, ST: having ST-T wave abnormality (T wave inversions and/or ST elevation or depression of > 0.05 mV), LVH: showing probable or definite left ventricular hypertrophy by Estes' criteria]\n",
    "    \n",
    "- **MaxHR:** Maximum heart rate achieved [Numeric value between 60 and 202]\n",
    "    \n",
    "- **ExerciseAngina:** Exercise-induced angina [Y: Yes, N: No]\n",
    "    \n",
    "- **Oldpeak:** Oldpeak = ST [Numeric value measured in depression]\n",
    "    \n",
    "- **ST_Slope:** The slope of the peak exercise ST segment [Up: upsloping, Flat: flat, Down: downsloping]\n",
    "    \n",
    "- **HeartDisease:** Output class [1: heart disease, 0: Normal]"
   ]
  },
  {
   "cell_type": "code",
   "execution_count": 5,
   "id": "c3d3d0fd",
   "metadata": {
    "execution": {
     "iopub.execute_input": "2022-07-17T04:10:31.884603Z",
     "iopub.status.busy": "2022-07-17T04:10:31.884238Z",
     "iopub.status.idle": "2022-07-17T04:10:31.893756Z",
     "shell.execute_reply": "2022-07-17T04:10:31.892595Z"
    },
    "papermill": {
     "duration": 0.025481,
     "end_time": "2022-07-17T04:10:31.895928",
     "exception": false,
     "start_time": "2022-07-17T04:10:31.870447",
     "status": "completed"
    },
    "tags": []
   },
   "outputs": [
    {
     "data": {
      "text/plain": [
       "(918, 12)"
      ]
     },
     "metadata": {},
     "output_type": "display_data"
    },
    {
     "data": {
      "text/plain": [
       "11016"
      ]
     },
     "metadata": {},
     "output_type": "display_data"
    }
   ],
   "source": [
    "display(heart.shape)\n",
    "display(heart.size)"
   ]
  },
  {
   "cell_type": "code",
   "execution_count": 6,
   "id": "d09ac0c9",
   "metadata": {
    "execution": {
     "iopub.execute_input": "2022-07-17T04:10:31.923964Z",
     "iopub.status.busy": "2022-07-17T04:10:31.923581Z",
     "iopub.status.idle": "2022-07-17T04:10:31.943478Z",
     "shell.execute_reply": "2022-07-17T04:10:31.942184Z"
    },
    "papermill": {
     "duration": 0.037108,
     "end_time": "2022-07-17T04:10:31.946388",
     "exception": false,
     "start_time": "2022-07-17T04:10:31.909280",
     "status": "completed"
    },
    "tags": []
   },
   "outputs": [
    {
     "name": "stdout",
     "output_type": "stream",
     "text": [
      "<class 'pandas.core.frame.DataFrame'>\n",
      "RangeIndex: 918 entries, 0 to 917\n",
      "Data columns (total 12 columns):\n",
      " #   Column          Non-Null Count  Dtype  \n",
      "---  ------          --------------  -----  \n",
      " 0   Age             918 non-null    int64  \n",
      " 1   Sex             918 non-null    object \n",
      " 2   ChestPainType   918 non-null    object \n",
      " 3   RestingBP       918 non-null    int64  \n",
      " 4   Cholesterol     918 non-null    int64  \n",
      " 5   FastingBS       918 non-null    int64  \n",
      " 6   RestingECG      918 non-null    object \n",
      " 7   MaxHR           918 non-null    int64  \n",
      " 8   ExerciseAngina  918 non-null    object \n",
      " 9   Oldpeak         918 non-null    float64\n",
      " 10  ST_Slope        918 non-null    object \n",
      " 11  HeartDisease    918 non-null    int64  \n",
      "dtypes: float64(1), int64(6), object(5)\n",
      "memory usage: 86.2+ KB\n"
     ]
    }
   ],
   "source": [
    "heart.info()"
   ]
  },
  {
   "cell_type": "code",
   "execution_count": 7,
   "id": "1d35bf99",
   "metadata": {
    "execution": {
     "iopub.execute_input": "2022-07-17T04:10:31.975310Z",
     "iopub.status.busy": "2022-07-17T04:10:31.974670Z",
     "iopub.status.idle": "2022-07-17T04:10:32.013504Z",
     "shell.execute_reply": "2022-07-17T04:10:32.012451Z"
    },
    "papermill": {
     "duration": 0.055689,
     "end_time": "2022-07-17T04:10:32.016015",
     "exception": false,
     "start_time": "2022-07-17T04:10:31.960326",
     "status": "completed"
    },
    "tags": []
   },
   "outputs": [
    {
     "data": {
      "text/html": [
       "<div>\n",
       "<style scoped>\n",
       "    .dataframe tbody tr th:only-of-type {\n",
       "        vertical-align: middle;\n",
       "    }\n",
       "\n",
       "    .dataframe tbody tr th {\n",
       "        vertical-align: top;\n",
       "    }\n",
       "\n",
       "    .dataframe thead th {\n",
       "        text-align: right;\n",
       "    }\n",
       "</style>\n",
       "<table border=\"1\" class=\"dataframe\">\n",
       "  <thead>\n",
       "    <tr style=\"text-align: right;\">\n",
       "      <th></th>\n",
       "      <th>Age</th>\n",
       "      <th>RestingBP</th>\n",
       "      <th>Cholesterol</th>\n",
       "      <th>FastingBS</th>\n",
       "      <th>MaxHR</th>\n",
       "      <th>Oldpeak</th>\n",
       "      <th>HeartDisease</th>\n",
       "    </tr>\n",
       "  </thead>\n",
       "  <tbody>\n",
       "    <tr>\n",
       "      <th>count</th>\n",
       "      <td>918.000</td>\n",
       "      <td>918.000</td>\n",
       "      <td>918.000</td>\n",
       "      <td>918.000</td>\n",
       "      <td>918.000</td>\n",
       "      <td>918.000</td>\n",
       "      <td>918.000</td>\n",
       "    </tr>\n",
       "    <tr>\n",
       "      <th>mean</th>\n",
       "      <td>53.511</td>\n",
       "      <td>132.397</td>\n",
       "      <td>198.800</td>\n",
       "      <td>0.233</td>\n",
       "      <td>136.809</td>\n",
       "      <td>0.887</td>\n",
       "      <td>0.553</td>\n",
       "    </tr>\n",
       "    <tr>\n",
       "      <th>std</th>\n",
       "      <td>9.433</td>\n",
       "      <td>18.514</td>\n",
       "      <td>109.384</td>\n",
       "      <td>0.423</td>\n",
       "      <td>25.460</td>\n",
       "      <td>1.067</td>\n",
       "      <td>0.497</td>\n",
       "    </tr>\n",
       "    <tr>\n",
       "      <th>min</th>\n",
       "      <td>28.000</td>\n",
       "      <td>0.000</td>\n",
       "      <td>0.000</td>\n",
       "      <td>0.000</td>\n",
       "      <td>60.000</td>\n",
       "      <td>-2.600</td>\n",
       "      <td>0.000</td>\n",
       "    </tr>\n",
       "    <tr>\n",
       "      <th>25%</th>\n",
       "      <td>47.000</td>\n",
       "      <td>120.000</td>\n",
       "      <td>173.250</td>\n",
       "      <td>0.000</td>\n",
       "      <td>120.000</td>\n",
       "      <td>0.000</td>\n",
       "      <td>0.000</td>\n",
       "    </tr>\n",
       "    <tr>\n",
       "      <th>50%</th>\n",
       "      <td>54.000</td>\n",
       "      <td>130.000</td>\n",
       "      <td>223.000</td>\n",
       "      <td>0.000</td>\n",
       "      <td>138.000</td>\n",
       "      <td>0.600</td>\n",
       "      <td>1.000</td>\n",
       "    </tr>\n",
       "    <tr>\n",
       "      <th>75%</th>\n",
       "      <td>60.000</td>\n",
       "      <td>140.000</td>\n",
       "      <td>267.000</td>\n",
       "      <td>0.000</td>\n",
       "      <td>156.000</td>\n",
       "      <td>1.500</td>\n",
       "      <td>1.000</td>\n",
       "    </tr>\n",
       "    <tr>\n",
       "      <th>max</th>\n",
       "      <td>77.000</td>\n",
       "      <td>200.000</td>\n",
       "      <td>603.000</td>\n",
       "      <td>1.000</td>\n",
       "      <td>202.000</td>\n",
       "      <td>6.200</td>\n",
       "      <td>1.000</td>\n",
       "    </tr>\n",
       "  </tbody>\n",
       "</table>\n",
       "</div>"
      ],
      "text/plain": [
       "           Age  RestingBP  Cholesterol  FastingBS    MaxHR  Oldpeak  \\\n",
       "count  918.000    918.000      918.000    918.000  918.000  918.000   \n",
       "mean    53.511    132.397      198.800      0.233  136.809    0.887   \n",
       "std      9.433     18.514      109.384      0.423   25.460    1.067   \n",
       "min     28.000      0.000        0.000      0.000   60.000   -2.600   \n",
       "25%     47.000    120.000      173.250      0.000  120.000    0.000   \n",
       "50%     54.000    130.000      223.000      0.000  138.000    0.600   \n",
       "75%     60.000    140.000      267.000      0.000  156.000    1.500   \n",
       "max     77.000    200.000      603.000      1.000  202.000    6.200   \n",
       "\n",
       "       HeartDisease  \n",
       "count       918.000  \n",
       "mean          0.553  \n",
       "std           0.497  \n",
       "min           0.000  \n",
       "25%           0.000  \n",
       "50%           1.000  \n",
       "75%           1.000  \n",
       "max           1.000  "
      ]
     },
     "execution_count": 7,
     "metadata": {},
     "output_type": "execute_result"
    }
   ],
   "source": [
    "heart.describe()"
   ]
  },
  {
   "cell_type": "code",
   "execution_count": 8,
   "id": "52e55113",
   "metadata": {
    "execution": {
     "iopub.execute_input": "2022-07-17T04:10:32.046012Z",
     "iopub.status.busy": "2022-07-17T04:10:32.045167Z",
     "iopub.status.idle": "2022-07-17T04:10:32.055096Z",
     "shell.execute_reply": "2022-07-17T04:10:32.053994Z"
    },
    "papermill": {
     "duration": 0.027388,
     "end_time": "2022-07-17T04:10:32.057292",
     "exception": false,
     "start_time": "2022-07-17T04:10:32.029904",
     "status": "completed"
    },
    "tags": []
   },
   "outputs": [
    {
     "data": {
      "text/plain": [
       "Age               0.0\n",
       "Sex               0.0\n",
       "ChestPainType     0.0\n",
       "RestingBP         0.0\n",
       "Cholesterol       0.0\n",
       "FastingBS         0.0\n",
       "RestingECG        0.0\n",
       "MaxHR             0.0\n",
       "ExerciseAngina    0.0\n",
       "Oldpeak           0.0\n",
       "ST_Slope          0.0\n",
       "HeartDisease      0.0\n",
       "dtype: float64"
      ]
     },
     "execution_count": 8,
     "metadata": {},
     "output_type": "execute_result"
    }
   ],
   "source": [
    "heart.isnull().mean()*100"
   ]
  },
  {
   "cell_type": "code",
   "execution_count": 9,
   "id": "11307321",
   "metadata": {
    "execution": {
     "iopub.execute_input": "2022-07-17T04:10:32.086359Z",
     "iopub.status.busy": "2022-07-17T04:10:32.085628Z",
     "iopub.status.idle": "2022-07-17T04:10:32.583619Z",
     "shell.execute_reply": "2022-07-17T04:10:32.582430Z"
    },
    "papermill": {
     "duration": 0.514984,
     "end_time": "2022-07-17T04:10:32.586044",
     "exception": false,
     "start_time": "2022-07-17T04:10:32.071060",
     "status": "completed"
    },
    "tags": []
   },
   "outputs": [
    {
     "data": {
      "image/png": "[encoded data removed]",
      "text/plain": [
       "<Figure size 1800x720 with 2 Axes>"
      ]
     },
     "metadata": {
      "needs_background": "light"
     },
     "output_type": "display_data"
    }
   ],
   "source": [
    "import missingno as msno\n",
    "msno.matrix(heart)\n",
    "plt.show()"
   ]
  },
  {
   "cell_type": "code",
   "execution_count": 10,
   "id": "f3a50946",
   "metadata": {
    "execution": {
     "iopub.execute_input": "2022-07-17T04:10:32.618535Z",
     "iopub.status.busy": "2022-07-17T04:10:32.616341Z",
     "iopub.status.idle": "2022-07-17T04:10:32.624093Z",
     "shell.execute_reply": "2022-07-17T04:10:32.622728Z"
    },
    "papermill": {
     "duration": 0.02613,
     "end_time": "2022-07-17T04:10:32.626313",
     "exception": false,
     "start_time": "2022-07-17T04:10:32.600183",
     "status": "completed"
    },
    "tags": []
   },
   "outputs": [
    {
     "name": "stdout",
     "output_type": "stream",
     "text": [
      "We have 918 instances with the 11 features and 1 output variable\n"
     ]
    }
   ],
   "source": [
    "print(f'We have {heart.shape[0]} instances with the {heart.shape[1]-1} features and 1 output variable')"
   ]
  },
  {
   "cell_type": "code",
   "execution_count": 11,
   "id": "fbfa1d79",
   "metadata": {
    "execution": {
     "iopub.execute_input": "2022-07-17T04:10:32.659090Z",
     "iopub.status.busy": "2022-07-17T04:10:32.658378Z",
     "iopub.status.idle": "2022-07-17T04:10:32.671619Z",
     "shell.execute_reply": "2022-07-17T04:10:32.670521Z"
    },
    "papermill": {
     "duration": 0.031815,
     "end_time": "2022-07-17T04:10:32.673873",
     "exception": false,
     "start_time": "2022-07-17T04:10:32.642058",
     "status": "completed"
    },
    "tags": []
   },
   "outputs": [
    {
     "data": {
      "text/html": [
       "<div>\n",
       "<style scoped>\n",
       "    .dataframe tbody tr th:only-of-type {\n",
       "        vertical-align: middle;\n",
       "    }\n",
       "\n",
       "    .dataframe tbody tr th {\n",
       "        vertical-align: top;\n",
       "    }\n",
       "\n",
       "    .dataframe thead th {\n",
       "        text-align: right;\n",
       "    }\n",
       "</style>\n",
       "<table border=\"1\" class=\"dataframe\">\n",
       "  <thead>\n",
       "    <tr style=\"text-align: right;\">\n",
       "      <th></th>\n",
       "      <th>HeartDisease</th>\n",
       "    </tr>\n",
       "  </thead>\n",
       "  <tbody>\n",
       "    <tr>\n",
       "      <th>Age</th>\n",
       "      <td>0.282</td>\n",
       "    </tr>\n",
       "    <tr>\n",
       "      <th>RestingBP</th>\n",
       "      <td>0.108</td>\n",
       "    </tr>\n",
       "    <tr>\n",
       "      <th>Cholesterol</th>\n",
       "      <td>0.233</td>\n",
       "    </tr>\n",
       "    <tr>\n",
       "      <th>FastingBS</th>\n",
       "      <td>0.267</td>\n",
       "    </tr>\n",
       "    <tr>\n",
       "      <th>MaxHR</th>\n",
       "      <td>0.400</td>\n",
       "    </tr>\n",
       "    <tr>\n",
       "      <th>Oldpeak</th>\n",
       "      <td>0.404</td>\n",
       "    </tr>\n",
       "    <tr>\n",
       "      <th>HeartDisease</th>\n",
       "      <td>1.000</td>\n",
       "    </tr>\n",
       "  </tbody>\n",
       "</table>\n",
       "</div>"
      ],
      "text/plain": [
       "              HeartDisease\n",
       "Age                  0.282\n",
       "RestingBP            0.108\n",
       "Cholesterol          0.233\n",
       "FastingBS            0.267\n",
       "MaxHR                0.400\n",
       "Oldpeak              0.404\n",
       "HeartDisease         1.000"
      ]
     },
     "execution_count": 11,
     "metadata": {},
     "output_type": "execute_result"
    }
   ],
   "source": [
    "pd.DataFrame(abs(heart.corr()['HeartDisease']))"
   ]
  },
  {
   "cell_type": "markdown",
   "id": "40d62a30",
   "metadata": {
    "papermill": {
     "duration": 0.014532,
     "end_time": "2022-07-17T04:10:32.702793",
     "exception": false,
     "start_time": "2022-07-17T04:10:32.688261",
     "status": "completed"
    },
    "tags": []
   },
   "source": [
    "<font color=\"Fuchsia\"><h1 style=\"text-align: justify; font-family: 'Lucida Calligraphy'; font-size:30px; color:Fuchsia\"> Data train test split  </h1>"
   ]
  },
  {
   "cell_type": "code",
   "execution_count": 12,
   "id": "0c242b22",
   "metadata": {
    "execution": {
     "iopub.execute_input": "2022-07-17T04:10:32.735993Z",
     "iopub.status.busy": "2022-07-17T04:10:32.735211Z",
     "iopub.status.idle": "2022-07-17T04:10:32.750205Z",
     "shell.execute_reply": "2022-07-17T04:10:32.748996Z"
    },
    "papermill": {
     "duration": 0.034817,
     "end_time": "2022-07-17T04:10:32.752860",
     "exception": false,
     "start_time": "2022-07-17T04:10:32.718043",
     "status": "completed"
    },
    "tags": []
   },
   "outputs": [
    {
     "data": {
      "text/html": [
       "<div>\n",
       "<style scoped>\n",
       "    .dataframe tbody tr th:only-of-type {\n",
       "        vertical-align: middle;\n",
       "    }\n",
       "\n",
       "    .dataframe tbody tr th {\n",
       "        vertical-align: top;\n",
       "    }\n",
       "\n",
       "    .dataframe thead th {\n",
       "        text-align: right;\n",
       "    }\n",
       "</style>\n",
       "<table border=\"1\" class=\"dataframe\">\n",
       "  <thead>\n",
       "    <tr style=\"text-align: right;\">\n",
       "      <th></th>\n",
       "      <th>Age</th>\n",
       "      <th>Sex</th>\n",
       "      <th>ChestPainType</th>\n",
       "      <th>RestingBP</th>\n",
       "      <th>Cholesterol</th>\n",
       "      <th>FastingBS</th>\n",
       "      <th>RestingECG</th>\n",
       "      <th>MaxHR</th>\n",
       "      <th>ExerciseAngina</th>\n",
       "      <th>Oldpeak</th>\n",
       "      <th>ST_Slope</th>\n",
       "      <th>HeartDisease</th>\n",
       "    </tr>\n",
       "  </thead>\n",
       "  <tbody>\n",
       "    <tr>\n",
       "      <th>0</th>\n",
       "      <td>40</td>\n",
       "      <td>M</td>\n",
       "      <td>ATA</td>\n",
       "      <td>140</td>\n",
       "      <td>289</td>\n",
       "      <td>0</td>\n",
       "      <td>Normal</td>\n",
       "      <td>172</td>\n",
       "      <td>N</td>\n",
       "      <td>0.0</td>\n",
       "      <td>Up</td>\n",
       "      <td>0</td>\n",
       "    </tr>\n",
       "  </tbody>\n",
       "</table>\n",
       "</div>"
      ],
      "text/plain": [
       "   Age Sex ChestPainType  RestingBP  Cholesterol  FastingBS RestingECG  MaxHR  \\\n",
       "0   40   M           ATA        140          289          0     Normal    172   \n",
       "\n",
       "  ExerciseAngina  Oldpeak ST_Slope  HeartDisease  \n",
       "0              N      0.0       Up             0  "
      ]
     },
     "execution_count": 12,
     "metadata": {},
     "output_type": "execute_result"
    }
   ],
   "source": [
    "heart.head(1)\n"
   ]
  },
  {
   "cell_type": "code",
   "execution_count": 13,
   "id": "0d88ac4c",
   "metadata": {
    "execution": {
     "iopub.execute_input": "2022-07-17T04:10:32.783796Z",
     "iopub.status.busy": "2022-07-17T04:10:32.783039Z",
     "iopub.status.idle": "2022-07-17T04:10:32.789258Z",
     "shell.execute_reply": "2022-07-17T04:10:32.788341Z"
    },
    "papermill": {
     "duration": 0.024721,
     "end_time": "2022-07-17T04:10:32.792073",
     "exception": false,
     "start_time": "2022-07-17T04:10:32.767352",
     "status": "completed"
    },
    "tags": []
   },
   "outputs": [],
   "source": [
    "X = heart.drop('HeartDisease',axis=1) \n",
    "y = heart['HeartDisease']"
   ]
  },
  {
   "cell_type": "code",
   "execution_count": 14,
   "id": "62a1def5",
   "metadata": {
    "execution": {
     "iopub.execute_input": "2022-07-17T04:10:32.823782Z",
     "iopub.status.busy": "2022-07-17T04:10:32.823075Z",
     "iopub.status.idle": "2022-07-17T04:10:33.055085Z",
     "shell.execute_reply": "2022-07-17T04:10:33.053981Z"
    },
    "papermill": {
     "duration": 0.250408,
     "end_time": "2022-07-17T04:10:33.057705",
     "exception": false,
     "start_time": "2022-07-17T04:10:32.807297",
     "status": "completed"
    },
    "tags": []
   },
   "outputs": [
    {
     "data": {
      "text/html": [
       "<div>\n",
       "<style scoped>\n",
       "    .dataframe tbody tr th:only-of-type {\n",
       "        vertical-align: middle;\n",
       "    }\n",
       "\n",
       "    .dataframe tbody tr th {\n",
       "        vertical-align: top;\n",
       "    }\n",
       "\n",
       "    .dataframe thead th {\n",
       "        text-align: right;\n",
       "    }\n",
       "</style>\n",
       "<table border=\"1\" class=\"dataframe\">\n",
       "  <thead>\n",
       "    <tr style=\"text-align: right;\">\n",
       "      <th></th>\n",
       "      <th>Age</th>\n",
       "      <th>Sex</th>\n",
       "      <th>ChestPainType</th>\n",
       "      <th>RestingBP</th>\n",
       "      <th>Cholesterol</th>\n",
       "      <th>FastingBS</th>\n",
       "      <th>RestingECG</th>\n",
       "      <th>MaxHR</th>\n",
       "      <th>ExerciseAngina</th>\n",
       "      <th>Oldpeak</th>\n",
       "      <th>ST_Slope</th>\n",
       "    </tr>\n",
       "  </thead>\n",
       "  <tbody>\n",
       "    <tr>\n",
       "      <th>0</th>\n",
       "      <td>40</td>\n",
       "      <td>1</td>\n",
       "      <td>1</td>\n",
       "      <td>140</td>\n",
       "      <td>289</td>\n",
       "      <td>0</td>\n",
       "      <td>1</td>\n",
       "      <td>172</td>\n",
       "      <td>1</td>\n",
       "      <td>0.0</td>\n",
       "      <td>1</td>\n",
       "    </tr>\n",
       "    <tr>\n",
       "      <th>1</th>\n",
       "      <td>49</td>\n",
       "      <td>2</td>\n",
       "      <td>2</td>\n",
       "      <td>160</td>\n",
       "      <td>180</td>\n",
       "      <td>0</td>\n",
       "      <td>1</td>\n",
       "      <td>156</td>\n",
       "      <td>1</td>\n",
       "      <td>1.0</td>\n",
       "      <td>2</td>\n",
       "    </tr>\n",
       "    <tr>\n",
       "      <th>2</th>\n",
       "      <td>37</td>\n",
       "      <td>1</td>\n",
       "      <td>1</td>\n",
       "      <td>130</td>\n",
       "      <td>283</td>\n",
       "      <td>0</td>\n",
       "      <td>2</td>\n",
       "      <td>98</td>\n",
       "      <td>1</td>\n",
       "      <td>0.0</td>\n",
       "      <td>1</td>\n",
       "    </tr>\n",
       "    <tr>\n",
       "      <th>3</th>\n",
       "      <td>48</td>\n",
       "      <td>2</td>\n",
       "      <td>3</td>\n",
       "      <td>138</td>\n",
       "      <td>214</td>\n",
       "      <td>0</td>\n",
       "      <td>1</td>\n",
       "      <td>108</td>\n",
       "      <td>2</td>\n",
       "      <td>1.5</td>\n",
       "      <td>2</td>\n",
       "    </tr>\n",
       "    <tr>\n",
       "      <th>4</th>\n",
       "      <td>54</td>\n",
       "      <td>1</td>\n",
       "      <td>2</td>\n",
       "      <td>150</td>\n",
       "      <td>195</td>\n",
       "      <td>0</td>\n",
       "      <td>1</td>\n",
       "      <td>122</td>\n",
       "      <td>1</td>\n",
       "      <td>0.0</td>\n",
       "      <td>1</td>\n",
       "    </tr>\n",
       "  </tbody>\n",
       "</table>\n",
       "</div>"
      ],
      "text/plain": [
       "   Age  Sex  ChestPainType  RestingBP  Cholesterol  FastingBS  RestingECG  \\\n",
       "0   40    1              1        140          289          0           1   \n",
       "1   49    2              2        160          180          0           1   \n",
       "2   37    1              1        130          283          0           2   \n",
       "3   48    2              3        138          214          0           1   \n",
       "4   54    1              2        150          195          0           1   \n",
       "\n",
       "   MaxHR  ExerciseAngina  Oldpeak  ST_Slope  \n",
       "0    172               1      0.0         1  \n",
       "1    156               1      1.0         2  \n",
       "2     98               1      0.0         1  \n",
       "3    108               2      1.5         2  \n",
       "4    122               1      0.0         1  "
      ]
     },
     "execution_count": 14,
     "metadata": {},
     "output_type": "execute_result"
    }
   ],
   "source": [
    "import category_encoders as ce\n",
    "encoder = ce.OrdinalEncoder(cols=['Sex','ChestPainType','RestingECG','ExerciseAngina','ST_Slope'],drop_invariant=True)\n",
    "X = encoder.fit_transform(X)\n",
    "X.head()"
   ]
  },
  {
   "cell_type": "code",
   "execution_count": 15,
   "id": "6221a86b",
   "metadata": {
    "execution": {
     "iopub.execute_input": "2022-07-17T04:10:33.089136Z",
     "iopub.status.busy": "2022-07-17T04:10:33.088745Z",
     "iopub.status.idle": "2022-07-17T04:10:33.104234Z",
     "shell.execute_reply": "2022-07-17T04:10:33.103393Z"
    },
    "papermill": {
     "duration": 0.033676,
     "end_time": "2022-07-17T04:10:33.106463",
     "exception": false,
     "start_time": "2022-07-17T04:10:33.072787",
     "status": "completed"
    },
    "tags": []
   },
   "outputs": [],
   "source": [
    "from sklearn.model_selection import train_test_split\n",
    "X_train,X_test,y_train,y_test = train_test_split(X,y,test_size=0.2,random_state=21)"
   ]
  },
  {
   "cell_type": "markdown",
   "id": "8196406c",
   "metadata": {
    "papermill": {
     "duration": 0.015101,
     "end_time": "2022-07-17T04:10:33.136128",
     "exception": false,
     "start_time": "2022-07-17T04:10:33.121027",
     "status": "completed"
    },
    "tags": []
   },
   "source": [
    "<font color=\"Fuchsia\"><h1 style=\"text-align: justify; font-family: 'Lucida Calligraphy'; font-size:25px; color:Fuchsia\"> Standardizing the data by using MinMaxScaler  </h1>"
   ]
  },
  {
   "cell_type": "code",
   "execution_count": 16,
   "id": "cda6902e",
   "metadata": {
    "execution": {
     "iopub.execute_input": "2022-07-17T04:10:33.167866Z",
     "iopub.status.busy": "2022-07-17T04:10:33.167177Z",
     "iopub.status.idle": "2022-07-17T04:10:33.202369Z",
     "shell.execute_reply": "2022-07-17T04:10:33.200914Z"
    },
    "papermill": {
     "duration": 0.053695,
     "end_time": "2022-07-17T04:10:33.204996",
     "exception": false,
     "start_time": "2022-07-17T04:10:33.151301",
     "status": "completed"
    },
    "tags": []
   },
   "outputs": [
    {
     "data": {
      "text/html": [
       "<div>\n",
       "<style scoped>\n",
       "    .dataframe tbody tr th:only-of-type {\n",
       "        vertical-align: middle;\n",
       "    }\n",
       "\n",
       "    .dataframe tbody tr th {\n",
       "        vertical-align: top;\n",
       "    }\n",
       "\n",
       "    .dataframe thead th {\n",
       "        text-align: right;\n",
       "    }\n",
       "</style>\n",
       "<table border=\"1\" class=\"dataframe\">\n",
       "  <thead>\n",
       "    <tr style=\"text-align: right;\">\n",
       "      <th></th>\n",
       "      <th>Age</th>\n",
       "      <th>Sex</th>\n",
       "      <th>ChestPainType</th>\n",
       "      <th>RestingBP</th>\n",
       "      <th>Cholesterol</th>\n",
       "      <th>FastingBS</th>\n",
       "      <th>RestingECG</th>\n",
       "      <th>MaxHR</th>\n",
       "      <th>ExerciseAngina</th>\n",
       "      <th>Oldpeak</th>\n",
       "      <th>ST_Slope</th>\n",
       "    </tr>\n",
       "  </thead>\n",
       "  <tbody>\n",
       "    <tr>\n",
       "      <th>0</th>\n",
       "      <td>0.531</td>\n",
       "      <td>0.0</td>\n",
       "      <td>0.333</td>\n",
       "      <td>0.75</td>\n",
       "      <td>0.346</td>\n",
       "      <td>0.0</td>\n",
       "      <td>0.0</td>\n",
       "      <td>0.437</td>\n",
       "      <td>0.0</td>\n",
       "      <td>0.295</td>\n",
       "      <td>0.0</td>\n",
       "    </tr>\n",
       "    <tr>\n",
       "      <th>1</th>\n",
       "      <td>0.531</td>\n",
       "      <td>1.0</td>\n",
       "      <td>0.000</td>\n",
       "      <td>0.70</td>\n",
       "      <td>0.548</td>\n",
       "      <td>0.0</td>\n",
       "      <td>0.5</td>\n",
       "      <td>0.563</td>\n",
       "      <td>0.0</td>\n",
       "      <td>0.295</td>\n",
       "      <td>0.0</td>\n",
       "    </tr>\n",
       "    <tr>\n",
       "      <th>2</th>\n",
       "      <td>0.551</td>\n",
       "      <td>0.0</td>\n",
       "      <td>0.667</td>\n",
       "      <td>0.66</td>\n",
       "      <td>0.626</td>\n",
       "      <td>0.0</td>\n",
       "      <td>0.0</td>\n",
       "      <td>0.507</td>\n",
       "      <td>1.0</td>\n",
       "      <td>0.432</td>\n",
       "      <td>0.5</td>\n",
       "    </tr>\n",
       "    <tr>\n",
       "      <th>3</th>\n",
       "      <td>0.306</td>\n",
       "      <td>1.0</td>\n",
       "      <td>0.333</td>\n",
       "      <td>0.75</td>\n",
       "      <td>0.450</td>\n",
       "      <td>0.0</td>\n",
       "      <td>0.0</td>\n",
       "      <td>0.810</td>\n",
       "      <td>0.0</td>\n",
       "      <td>0.295</td>\n",
       "      <td>0.0</td>\n",
       "    </tr>\n",
       "    <tr>\n",
       "      <th>4</th>\n",
       "      <td>0.449</td>\n",
       "      <td>0.0</td>\n",
       "      <td>0.667</td>\n",
       "      <td>0.70</td>\n",
       "      <td>0.410</td>\n",
       "      <td>0.0</td>\n",
       "      <td>0.5</td>\n",
       "      <td>0.563</td>\n",
       "      <td>1.0</td>\n",
       "      <td>0.864</td>\n",
       "      <td>0.5</td>\n",
       "    </tr>\n",
       "  </tbody>\n",
       "</table>\n",
       "</div>"
      ],
      "text/plain": [
       "     Age  Sex  ChestPainType  RestingBP  Cholesterol  FastingBS  RestingECG  \\\n",
       "0  0.531  0.0          0.333       0.75        0.346        0.0         0.0   \n",
       "1  0.531  1.0          0.000       0.70        0.548        0.0         0.5   \n",
       "2  0.551  0.0          0.667       0.66        0.626        0.0         0.0   \n",
       "3  0.306  1.0          0.333       0.75        0.450        0.0         0.0   \n",
       "4  0.449  0.0          0.667       0.70        0.410        0.0         0.5   \n",
       "\n",
       "   MaxHR  ExerciseAngina  Oldpeak  ST_Slope  \n",
       "0  0.437             0.0    0.295       0.0  \n",
       "1  0.563             0.0    0.295       0.0  \n",
       "2  0.507             1.0    0.432       0.5  \n",
       "3  0.810             0.0    0.295       0.0  \n",
       "4  0.563             1.0    0.864       0.5  "
      ]
     },
     "metadata": {},
     "output_type": "display_data"
    },
    {
     "data": {
      "text/html": [
       "<div>\n",
       "<style scoped>\n",
       "    .dataframe tbody tr th:only-of-type {\n",
       "        vertical-align: middle;\n",
       "    }\n",
       "\n",
       "    .dataframe tbody tr th {\n",
       "        vertical-align: top;\n",
       "    }\n",
       "\n",
       "    .dataframe thead th {\n",
       "        text-align: right;\n",
       "    }\n",
       "</style>\n",
       "<table border=\"1\" class=\"dataframe\">\n",
       "  <thead>\n",
       "    <tr style=\"text-align: right;\">\n",
       "      <th></th>\n",
       "      <th>Age</th>\n",
       "      <th>Sex</th>\n",
       "      <th>ChestPainType</th>\n",
       "      <th>RestingBP</th>\n",
       "      <th>Cholesterol</th>\n",
       "      <th>FastingBS</th>\n",
       "      <th>RestingECG</th>\n",
       "      <th>MaxHR</th>\n",
       "      <th>ExerciseAngina</th>\n",
       "      <th>Oldpeak</th>\n",
       "      <th>ST_Slope</th>\n",
       "    </tr>\n",
       "  </thead>\n",
       "  <tbody>\n",
       "    <tr>\n",
       "      <th>0</th>\n",
       "      <td>0.592</td>\n",
       "      <td>1.0</td>\n",
       "      <td>1.000</td>\n",
       "      <td>0.65</td>\n",
       "      <td>0.546</td>\n",
       "      <td>0.0</td>\n",
       "      <td>0.0</td>\n",
       "      <td>0.268</td>\n",
       "      <td>0.0</td>\n",
       "      <td>0.409</td>\n",
       "      <td>0.5</td>\n",
       "    </tr>\n",
       "    <tr>\n",
       "      <th>1</th>\n",
       "      <td>0.306</td>\n",
       "      <td>0.0</td>\n",
       "      <td>0.667</td>\n",
       "      <td>0.60</td>\n",
       "      <td>0.310</td>\n",
       "      <td>0.0</td>\n",
       "      <td>0.0</td>\n",
       "      <td>0.423</td>\n",
       "      <td>1.0</td>\n",
       "      <td>0.409</td>\n",
       "      <td>0.5</td>\n",
       "    </tr>\n",
       "    <tr>\n",
       "      <th>2</th>\n",
       "      <td>0.245</td>\n",
       "      <td>0.0</td>\n",
       "      <td>0.667</td>\n",
       "      <td>0.60</td>\n",
       "      <td>0.826</td>\n",
       "      <td>1.0</td>\n",
       "      <td>0.0</td>\n",
       "      <td>0.648</td>\n",
       "      <td>1.0</td>\n",
       "      <td>0.409</td>\n",
       "      <td>0.5</td>\n",
       "    </tr>\n",
       "    <tr>\n",
       "      <th>3</th>\n",
       "      <td>0.306</td>\n",
       "      <td>0.0</td>\n",
       "      <td>0.667</td>\n",
       "      <td>0.60</td>\n",
       "      <td>0.314</td>\n",
       "      <td>0.0</td>\n",
       "      <td>1.0</td>\n",
       "      <td>0.423</td>\n",
       "      <td>1.0</td>\n",
       "      <td>0.580</td>\n",
       "      <td>0.5</td>\n",
       "    </tr>\n",
       "    <tr>\n",
       "      <th>4</th>\n",
       "      <td>0.571</td>\n",
       "      <td>0.0</td>\n",
       "      <td>0.333</td>\n",
       "      <td>0.85</td>\n",
       "      <td>0.000</td>\n",
       "      <td>0.0</td>\n",
       "      <td>1.0</td>\n",
       "      <td>0.444</td>\n",
       "      <td>1.0</td>\n",
       "      <td>0.580</td>\n",
       "      <td>0.5</td>\n",
       "    </tr>\n",
       "  </tbody>\n",
       "</table>\n",
       "</div>"
      ],
      "text/plain": [
       "     Age  Sex  ChestPainType  RestingBP  Cholesterol  FastingBS  RestingECG  \\\n",
       "0  0.592  1.0          1.000       0.65        0.546        0.0         0.0   \n",
       "1  0.306  0.0          0.667       0.60        0.310        0.0         0.0   \n",
       "2  0.245  0.0          0.667       0.60        0.826        1.0         0.0   \n",
       "3  0.306  0.0          0.667       0.60        0.314        0.0         1.0   \n",
       "4  0.571  0.0          0.333       0.85        0.000        0.0         1.0   \n",
       "\n",
       "   MaxHR  ExerciseAngina  Oldpeak  ST_Slope  \n",
       "0  0.268             0.0    0.409       0.5  \n",
       "1  0.423             1.0    0.409       0.5  \n",
       "2  0.648             1.0    0.409       0.5  \n",
       "3  0.423             1.0    0.580       0.5  \n",
       "4  0.444             1.0    0.580       0.5  "
      ]
     },
     "metadata": {},
     "output_type": "display_data"
    }
   ],
   "source": [
    "# scaling dataset with robust scaler\n",
    "from sklearn.preprocessing import MinMaxScaler\n",
    "scaler = MinMaxScaler()\n",
    "scaler.fit(X)\n",
    "X_train=scaler.fit_transform(X_train)\n",
    "X_test=scaler.transform(X_test)\n",
    "\n",
    "X_train = pd.DataFrame(X_train, columns=X.columns)\n",
    "X_test = pd.DataFrame(X_test, columns=X.columns)\n",
    "\n",
    "\n",
    "display(X_train.head())\n",
    "display(X_test.head())"
   ]
  },
  {
   "cell_type": "markdown",
   "id": "653a2cee",
   "metadata": {
    "papermill": {
     "duration": 0.016478,
     "end_time": "2022-07-17T04:10:33.237192",
     "exception": false,
     "start_time": "2022-07-17T04:10:33.220714",
     "status": "completed"
    },
    "tags": []
   },
   "source": [
    "<font color=\"Fuchsia\"><h1 style=\"text-align: justify; font-family: 'Lucida Calligraphy'; font-size:30px; color:Fuchsia\"> Model Building  </h1>"
   ]
  },
  {
   "cell_type": "markdown",
   "id": "0d76426e",
   "metadata": {
    "papermill": {
     "duration": 0.014942,
     "end_time": "2022-07-17T04:10:33.267458",
     "exception": false,
     "start_time": "2022-07-17T04:10:33.252516",
     "status": "completed"
    },
    "tags": []
   },
   "source": [
    "<font color=\"Fuchsia\"><h2 style=\"text-align: justify; font-family: 'Lucida Calligraphy'; font-size:25px; color:Fuchsia\"> RandomForestClassifier  </h2>"
   ]
  },
  {
   "cell_type": "code",
   "execution_count": 17,
   "id": "56a82d87",
   "metadata": {
    "execution": {
     "iopub.execute_input": "2022-07-17T04:10:33.299866Z",
     "iopub.status.busy": "2022-07-17T04:10:33.299491Z",
     "iopub.status.idle": "2022-07-17T04:10:33.730509Z",
     "shell.execute_reply": "2022-07-17T04:10:33.728608Z"
    },
    "papermill": {
     "duration": 0.451403,
     "end_time": "2022-07-17T04:10:33.734042",
     "exception": false,
     "start_time": "2022-07-17T04:10:33.282639",
     "status": "completed"
    },
    "tags": []
   },
   "outputs": [
    {
     "name": "stdout",
     "output_type": "stream",
     "text": [
      "Training Accuracy    : 100.0 %\n",
      "\u001b[1m---------------------------------\u001b[0m\n",
      "Model Accuracy Score : 85.87 %\n"
     ]
    }
   ],
   "source": [
    "plt.rcParams['figure.figsize'] = (8,6)\n",
    "plt.rcParams['font.size'] = 20\n",
    "\n",
    "from sklearn.metrics import accuracy_score,confusion_matrix,classification_report,f1_score\n",
    "# Logistic Regression\n",
    "from sklearn.ensemble import RandomForestClassifier\n",
    "Rm = RandomForestClassifier()\n",
    "Rm.fit(X_train, y_train)\n",
    "y_pred_Rm = Rm.predict(X_test)\n",
    "\n",
    "Rm_train = round(Rm.score(X_train, y_train) * 100, 2)\n",
    "Rm_accuracy = round(accuracy_score(y_pred_Rm, y_test) * 100, 2)\n",
    "Rm_f1 = round(f1_score(y_pred_Rm, y_test) * 100, 2)\n",
    "\n",
    "print(\"Training Accuracy    :\",Rm_train,\"%\")\n",
    "print(\"\\033[1m---------------------------------\\033[0m\")\n",
    "print(\"Model Accuracy Score :\",Rm_accuracy,\"%\")"
   ]
  },
  {
   "cell_type": "markdown",
   "id": "2c899b4d",
   "metadata": {
    "papermill": {
     "duration": 0.014909,
     "end_time": "2022-07-17T04:10:33.765151",
     "exception": false,
     "start_time": "2022-07-17T04:10:33.750242",
     "status": "completed"
    },
    "tags": []
   },
   "source": [
    "<font color=\"Olive\"><h1 style=\"text-align: justify; font-family: 'Lucida Calligraphy'; font-size:30px; color:Olive\"> Classification metrices  </h1>"
   ]
  },
  {
   "cell_type": "markdown",
   "id": "c09148b5",
   "metadata": {
    "papermill": {
     "duration": 0.014924,
     "end_time": "2022-07-17T04:10:33.795985",
     "exception": false,
     "start_time": "2022-07-17T04:10:33.781061",
     "status": "completed"
    },
    "tags": []
   },
   "source": [
    "<font color=\"Fuchsia\"><h2 style=\"text-align: justify; font-family: 'Lucida Calligraphy'; font-size:25px; color:Fuchsia\"> Confusion Matrix </h2>"
   ]
  },
  {
   "cell_type": "markdown",
   "id": "6a748f4b",
   "metadata": {
    "papermill": {
     "duration": 0.014782,
     "end_time": "2022-07-17T04:10:33.825661",
     "exception": false,
     "start_time": "2022-07-17T04:10:33.810879",
     "status": "completed"
    },
    "tags": []
   },
   "source": [
    "A confusion matrix is a tool for summarizing the performance of a classification algorithm. A confusion matrix will give us a clear picture of classification model performance and the types of errors produced by the model. It gives us a summary of correct and incorrect predictions broken down by each category. The summary is represented in a tabular form.\n",
    "\n",
    "\n",
    "*Four types of outcomes are possible while evaluating a classification model performance. These four outcomes are described below:*"
   ]
  },
  {
   "cell_type": "markdown",
   "id": "26258334",
   "metadata": {
    "papermill": {
     "duration": 0.014865,
     "end_time": "2022-07-17T04:10:33.855848",
     "exception": false,
     "start_time": "2022-07-17T04:10:33.840983",
     "status": "completed"
    },
    "tags": []
   },
   "source": [
    "<center>\n",
    "    <img src=\"https://brewcode.stringlab.org/wp-content/uploads/2020/09/image-9.png\" alt=\"Confusion Matrix\" width=\"40%\" >\n",
    "</center>"
   ]
  },
  {
   "cell_type": "markdown",
   "id": "af623ba0",
   "metadata": {
    "papermill": {
     "duration": 0.014779,
     "end_time": "2022-07-17T04:10:33.885694",
     "exception": false,
     "start_time": "2022-07-17T04:10:33.870915",
     "status": "completed"
    },
    "tags": []
   },
   "source": [
    "> True Positives (TP) – True Positives occur when we predict an observation belongs to a certain class and the observation actually belongs to that class.\n",
    "\n",
    "> True Negatives (TN) – True Negatives occur when we predict an observation does not belong to a certain class and the observation actually does not belong to that class.\n",
    "\n",
    "> False Positives (FP) – False Positives occur when we predict an observation belongs to a certain class but the observation actually does not belong to that class. This type of error is called Type I error.\n",
    "\n",
    "> False Negatives (FN) – False Negatives occur when we predict an observation does not belong to a certain class but the observation actually belongs to that class. This is a very serious error and it is called Type II error.\n",
    "\n",
    "These four outcomes are summarized in a confusion matrix given below."
   ]
  },
  {
   "cell_type": "code",
   "execution_count": 18,
   "id": "72897613",
   "metadata": {
    "execution": {
     "iopub.execute_input": "2022-07-17T04:10:33.919092Z",
     "iopub.status.busy": "2022-07-17T04:10:33.918317Z",
     "iopub.status.idle": "2022-07-17T04:10:34.159008Z",
     "shell.execute_reply": "2022-07-17T04:10:34.157713Z"
    },
    "papermill": {
     "duration": 0.260124,
     "end_time": "2022-07-17T04:10:34.161403",
     "exception": false,
     "start_time": "2022-07-17T04:10:33.901279",
     "status": "completed"
    },
    "tags": []
   },
   "outputs": [
    {
     "data": {
      "image/png": "[encoded data removed]",
      "text/plain": [
       "<Figure size 576x432 with 2 Axes>"
      ]
     },
     "metadata": {
      "needs_background": "light"
     },
     "output_type": "display_data"
    }
   ],
   "source": [
    "plot_confusion_matrix(Rm, X_test, y_test);\n",
    "plt.title('Confusion Matrix');"
   ]
  },
  {
   "cell_type": "markdown",
   "id": "3771bd35",
   "metadata": {
    "papermill": {
     "duration": 0.014981,
     "end_time": "2022-07-17T04:10:34.191822",
     "exception": false,
     "start_time": "2022-07-17T04:10:34.176841",
     "status": "completed"
    },
    "tags": []
   },
   "source": [
    "<center>\n",
    "    <img src=\"https://brewcode.stringlab.org/wp-content/uploads/2020/09/image-8.png\" alt=\"Confusion Matrix\" width=\"40%\" >\n",
    "</center>"
   ]
  },
  {
   "cell_type": "code",
   "execution_count": 19,
   "id": "0b185712",
   "metadata": {
    "execution": {
     "iopub.execute_input": "2022-07-17T04:10:34.226587Z",
     "iopub.status.busy": "2022-07-17T04:10:34.225903Z",
     "iopub.status.idle": "2022-07-17T04:10:34.233987Z",
     "shell.execute_reply": "2022-07-17T04:10:34.232967Z"
    },
    "papermill": {
     "duration": 0.028229,
     "end_time": "2022-07-17T04:10:34.236058",
     "exception": false,
     "start_time": "2022-07-17T04:10:34.207829",
     "status": "completed"
    },
    "tags": []
   },
   "outputs": [
    {
     "name": "stdout",
     "output_type": "stream",
     "text": [
      "Confusion matrix:\n",
      "\n",
      " [[61 15]\n",
      " [11 97]]\n",
      "\u001b[1m-----------------------------\u001b[0m\n",
      "\n",
      "True Positives(TP) =  61\n",
      "\u001b[1m-----------------------------\u001b[0m\n",
      "\n",
      "True Negatives(TN) =  97\n",
      "\u001b[1m-----------------------------\u001b[0m\n",
      "\n",
      "False Positives(FP) =  15\n",
      "\u001b[1m-----------------------------\u001b[0m\n",
      "\n",
      "False Negatives(FN) =  11\n"
     ]
    }
   ],
   "source": [
    "# Print the Confusion Matrix and slice it into four pieces\n",
    "\n",
    "from sklearn.metrics import confusion_matrix\n",
    "\n",
    "cm = confusion_matrix(y_test, y_pred_Rm)\n",
    "\n",
    "print('Confusion matrix:\\n\\n', cm)\n",
    "print(\"\\033[1m-----------------------------\\033[0m\")\n",
    "print('\\nTrue Positives(TP) = ', cm[0,0])\n",
    "print(\"\\033[1m-----------------------------\\033[0m\")\n",
    "print('\\nTrue Negatives(TN) = ', cm[1,1])\n",
    "print(\"\\033[1m-----------------------------\\033[0m\")\n",
    "print('\\nFalse Positives(FP) = ', cm[0,1])\n",
    "print(\"\\033[1m-----------------------------\\033[0m\")\n",
    "print('\\nFalse Negatives(FN) = ', cm[1,0])"
   ]
  },
  {
   "cell_type": "markdown",
   "id": "d3202a2b",
   "metadata": {
    "papermill": {
     "duration": 0.014728,
     "end_time": "2022-07-17T04:10:34.265963",
     "exception": false,
     "start_time": "2022-07-17T04:10:34.251235",
     "status": "completed"
    },
    "tags": []
   },
   "source": [
    "<div style=\"color:white;\n",
    "       display:fill;\n",
    "       border-radius:5px;\n",
    "       background-color:#AC0000;\n",
    "       font-size:110%;\n",
    "       font-family:Nexa;\n",
    "       letter-spacing:0.5px\">\n",
    "    <p style=\"padding: 10px;\n",
    "          color:white;\">\n",
    "        The confusion matrix shows 59 + 98 = 157 correct predictions and 10 + 17 = 27 incorrect predictions. \n",
    "    </p>\n",
    "</div>"
   ]
  },
  {
   "cell_type": "markdown",
   "id": "e9860704",
   "metadata": {
    "papermill": {
     "duration": 0.014972,
     "end_time": "2022-07-17T04:10:34.296066",
     "exception": false,
     "start_time": "2022-07-17T04:10:34.281094",
     "status": "completed"
    },
    "tags": []
   },
   "source": [
    " **In this case, we have**"
   ]
  },
  {
   "cell_type": "markdown",
   "id": "37afb49e",
   "metadata": {
    "papermill": {
     "duration": 0.015148,
     "end_time": "2022-07-17T04:10:34.326592",
     "exception": false,
     "start_time": "2022-07-17T04:10:34.311444",
     "status": "completed"
    },
    "tags": []
   },
   "source": [
    "<div style=\"color:white;\n",
    "       display:fill;\n",
    "       border-radius:5px;\n",
    "       background-color:Green;\n",
    "       font-size:110%;\n",
    "       font-family:Nexa;\n",
    "       letter-spacing:0.5px\">\n",
    "    <p style=\"padding: 10px;\n",
    "          color:white;\">\n",
    "        True Positives (Actual Positive:1 and Predict Positive:1) - 59\n",
    "    </p>\n",
    "</div>"
   ]
  },
  {
   "cell_type": "markdown",
   "id": "556de46e",
   "metadata": {
    "papermill": {
     "duration": 0.014965,
     "end_time": "2022-07-17T04:10:34.356601",
     "exception": false,
     "start_time": "2022-07-17T04:10:34.341636",
     "status": "completed"
    },
    "tags": []
   },
   "source": [
    "<div style=\"color:white;\n",
    "       display:fill;\n",
    "       border-radius:5px;\n",
    "       background-color:Red;\n",
    "       font-size:110%;\n",
    "       font-family:Nexa;\n",
    "       letter-spacing:0.5px\">\n",
    "    <p style=\"padding: 10px;\n",
    "          color:white;\">\n",
    "        True Negatives (Actual Negative:0 and Predict Negative:0) - 98\n",
    "    </p>\n",
    "</div>"
   ]
  },
  {
   "cell_type": "markdown",
   "id": "77bd8cef",
   "metadata": {
    "papermill": {
     "duration": 0.014874,
     "end_time": "2022-07-17T04:10:34.386847",
     "exception": false,
     "start_time": "2022-07-17T04:10:34.371973",
     "status": "completed"
    },
    "tags": []
   },
   "source": [
    "<div style=\"color:white;\n",
    "       display:fill;\n",
    "       border-radius:5px;\n",
    "       background-color:DarkOrange;\n",
    "       font-size:110%;\n",
    "       font-family:Nexa;\n",
    "       letter-spacing:0.5px\">\n",
    "    <p style=\"padding: 10px;\n",
    "          color:white;\">\n",
    "        False Positives (Actual Negative:0 but Predict Positive:1) - 17 (Type I error) \n",
    "    </p>\n",
    "</div>"
   ]
  },
  {
   "cell_type": "markdown",
   "id": "9d1345d8",
   "metadata": {
    "papermill": {
     "duration": 0.014852,
     "end_time": "2022-07-17T04:10:34.416932",
     "exception": false,
     "start_time": "2022-07-17T04:10:34.402080",
     "status": "completed"
    },
    "tags": []
   },
   "source": [
    "<div style=\"color:white;\n",
    "       display:fill;\n",
    "       border-radius:5px;\n",
    "       background-color:DarkSlateGray;\n",
    "       font-size:110%;\n",
    "       font-family:Nexa;\n",
    "       letter-spacing:0.5px\">\n",
    "    <p style=\"padding: 10px;\n",
    "          color:white;\">\n",
    "        False Negatives (Actual Positive:1 but Predict Negative:0) - 10 (Type II error)\n",
    "    </p>\n",
    "</div>"
   ]
  },
  {
   "cell_type": "markdown",
   "id": "e06aefcd",
   "metadata": {
    "papermill": {
     "duration": 0.015021,
     "end_time": "2022-07-17T04:10:34.447262",
     "exception": false,
     "start_time": "2022-07-17T04:10:34.432241",
     "status": "completed"
    },
    "tags": []
   },
   "source": [
    "<font color=\"Fuchsia\"><h2 style=\"text-align: justify; font-family: 'Comic Sans MS'; font-size:25px; color:Fuchsia\"> Classification Report  </h2>"
   ]
  },
  {
   "cell_type": "markdown",
   "id": "208b834a",
   "metadata": {
    "papermill": {
     "duration": 0.014815,
     "end_time": "2022-07-17T04:10:34.477164",
     "exception": false,
     "start_time": "2022-07-17T04:10:34.462349",
     "status": "completed"
    },
    "tags": []
   },
   "source": [
    "<div style=\"color:white;\n",
    "       display:fill;\n",
    "       border-radius:5px;\n",
    "       background-color:Fuchsia;\n",
    "       font-size:140%;\n",
    "       font-family:Nexa;\n",
    "       letter-spacing:0.5px\">\n",
    "    <p style=\"padding: 10px;\n",
    "          color:white;\">\n",
    "        Classification report is another way to evaluate the classification model performance. It displays the  precision, recall, f1 and support scores for the model.\n",
    "    </p>\n",
    "</div>"
   ]
  },
  {
   "cell_type": "markdown",
   "id": "68b2bd47",
   "metadata": {
    "papermill": {
     "duration": 0.014985,
     "end_time": "2022-07-17T04:10:34.507305",
     "exception": false,
     "start_time": "2022-07-17T04:10:34.492320",
     "status": "completed"
    },
    "tags": []
   },
   "source": [
    "> If we want a more comprehensive summary of precision, recall, and f1-score, we can use the classification_report convenience function to compute all three at once, and print them in a nice format.\n",
    "\n",
    "> The classification_report function produces one line per class (here, True and False) and reports precision, recall, and f-score with this class as the positive class.\n",
    "\n",
    "> The last column next to the f-score provides the support of each class, which simply means the number of samples in this class according to the ground truth.\n",
    "\n",
    "> The last row in the classification report shows a weighted (by the number of samples in the class) average of the numbers for each class."
   ]
  },
  {
   "cell_type": "code",
   "execution_count": 20,
   "id": "d0a1a192",
   "metadata": {
    "execution": {
     "iopub.execute_input": "2022-07-17T04:10:34.539923Z",
     "iopub.status.busy": "2022-07-17T04:10:34.539209Z",
     "iopub.status.idle": "2022-07-17T04:10:34.548587Z",
     "shell.execute_reply": "2022-07-17T04:10:34.547375Z"
    },
    "papermill": {
     "duration": 0.028449,
     "end_time": "2022-07-17T04:10:34.550928",
     "exception": false,
     "start_time": "2022-07-17T04:10:34.522479",
     "status": "completed"
    },
    "tags": []
   },
   "outputs": [
    {
     "name": "stdout",
     "output_type": "stream",
     "text": [
      "              precision    recall  f1-score   support\n",
      "\n",
      "           0       0.85      0.80      0.82        76\n",
      "           1       0.87      0.90      0.88       108\n",
      "\n",
      "    accuracy                           0.86       184\n",
      "   macro avg       0.86      0.85      0.85       184\n",
      "weighted avg       0.86      0.86      0.86       184\n",
      "\n"
     ]
    }
   ],
   "source": [
    "from sklearn.metrics import classification_report\n",
    "\n",
    "print(classification_report(y_test, y_pred_Rm))"
   ]
  },
  {
   "cell_type": "markdown",
   "id": "d7125429",
   "metadata": {
    "papermill": {
     "duration": 0.015249,
     "end_time": "2022-07-17T04:10:34.581699",
     "exception": false,
     "start_time": "2022-07-17T04:10:34.566450",
     "status": "completed"
    },
    "tags": []
   },
   "source": [
    "<font color=\"Fuchsia\"><h2 style=\"text-align: justify; font-family: 'Comic Sans MS'; font-size:25px; color:Fuchsia\"> Classification accuracy  </h2>"
   ]
  },
  {
   "cell_type": "code",
   "execution_count": 21,
   "id": "9c2e7c82",
   "metadata": {
    "execution": {
     "iopub.execute_input": "2022-07-17T04:10:34.614915Z",
     "iopub.status.busy": "2022-07-17T04:10:34.613862Z",
     "iopub.status.idle": "2022-07-17T04:10:34.619378Z",
     "shell.execute_reply": "2022-07-17T04:10:34.618269Z"
    },
    "papermill": {
     "duration": 0.024459,
     "end_time": "2022-07-17T04:10:34.621674",
     "exception": false,
     "start_time": "2022-07-17T04:10:34.597215",
     "status": "completed"
    },
    "tags": []
   },
   "outputs": [],
   "source": [
    "TP = cm[0,0]\n",
    "TN = cm[1,1]\n",
    "FP = cm[0,1]\n",
    "FN = cm[1,0]"
   ]
  },
  {
   "cell_type": "code",
   "execution_count": 22,
   "id": "fed87008",
   "metadata": {
    "execution": {
     "iopub.execute_input": "2022-07-17T04:10:34.654258Z",
     "iopub.status.busy": "2022-07-17T04:10:34.653862Z",
     "iopub.status.idle": "2022-07-17T04:10:34.659834Z",
     "shell.execute_reply": "2022-07-17T04:10:34.658672Z"
    },
    "papermill": {
     "duration": 0.025141,
     "end_time": "2022-07-17T04:10:34.662219",
     "exception": false,
     "start_time": "2022-07-17T04:10:34.637078",
     "status": "completed"
    },
    "tags": []
   },
   "outputs": [
    {
     "name": "stdout",
     "output_type": "stream",
     "text": [
      "Classification accuracy : 85.87 %\n"
     ]
    }
   ],
   "source": [
    "# print classification accuracy\n",
    "\n",
    "classification_accuracy = ((TP + TN) / float(TP + TN + FP + FN)*100)\n",
    "\n",
    "print('Classification accuracy : {0:0.2f}'.format(classification_accuracy),'%')"
   ]
  },
  {
   "cell_type": "markdown",
   "id": "695e6103",
   "metadata": {
    "papermill": {
     "duration": 0.015282,
     "end_time": "2022-07-17T04:10:34.692876",
     "exception": false,
     "start_time": "2022-07-17T04:10:34.677594",
     "status": "completed"
    },
    "tags": []
   },
   "source": [
    "<font color=\"Fuchsia\"><h2 style=\"text-align: justify; font-family: 'Comic Sans MS'; font-size:25px; color:Fuchsia\"> Classification error  </h2>"
   ]
  },
  {
   "cell_type": "code",
   "execution_count": 23,
   "id": "b04786ca",
   "metadata": {
    "execution": {
     "iopub.execute_input": "2022-07-17T04:10:34.726885Z",
     "iopub.status.busy": "2022-07-17T04:10:34.725766Z",
     "iopub.status.idle": "2022-07-17T04:10:34.732083Z",
     "shell.execute_reply": "2022-07-17T04:10:34.730991Z"
    },
    "papermill": {
     "duration": 0.026097,
     "end_time": "2022-07-17T04:10:34.734631",
     "exception": false,
     "start_time": "2022-07-17T04:10:34.708534",
     "status": "completed"
    },
    "tags": []
   },
   "outputs": [
    {
     "name": "stdout",
     "output_type": "stream",
     "text": [
      "Classification error : 14.13 %\n"
     ]
    }
   ],
   "source": [
    "classification_error = ((FP + FN) / float(TP + TN + FP + FN)*100)\n",
    "\n",
    "print('Classification error : {0:0.2f}'.format(classification_error),'%')"
   ]
  },
  {
   "cell_type": "markdown",
   "id": "afccef04",
   "metadata": {
    "papermill": {
     "duration": 0.015019,
     "end_time": "2022-07-17T04:10:34.765545",
     "exception": false,
     "start_time": "2022-07-17T04:10:34.750526",
     "status": "completed"
    },
    "tags": []
   },
   "source": [
    "<font color=\"Fuchsia\"><h2 style=\"text-align: justify; font-family: 'Comic Sans MS'; font-size:25px; color:Fuchsia\"> Precision  </h2>"
   ]
  },
  {
   "cell_type": "markdown",
   "id": "b72b6ab6",
   "metadata": {
    "papermill": {
     "duration": 0.015032,
     "end_time": "2022-07-17T04:10:34.795888",
     "exception": false,
     "start_time": "2022-07-17T04:10:34.780856",
     "status": "completed"
    },
    "tags": []
   },
   "source": [
    "> **Precision** can be defined as the percentage of correctly predicted positive outcomes out of all the predicted positive outcomes. It can be given as the ratio of true positives (TP) to the sum of true and false positives (TP + FP).\n",
    "\n",
    "> So, **Precision** identifies the proportion of correctly predicted positive outcome. It is more concerned with the positive class than the negative class.</font>\n",
    "\n",
    "> Mathematically, precision can be defined as the ratio of **TP to (TP + FP).**"
   ]
  },
  {
   "cell_type": "markdown",
   "id": "a78eb45a",
   "metadata": {
    "papermill": {
     "duration": 0.015239,
     "end_time": "2022-07-17T04:10:34.826670",
     "exception": false,
     "start_time": "2022-07-17T04:10:34.811431",
     "status": "completed"
    },
    "tags": []
   },
   "source": [
    "<center>\n",
    "    <img src=\"https://miro.medium.com/max/832/1*YLe6E6v9-GVln7TxzvgKJg.png\" alt=\"Confusion Matrix\" width=\"40%\">\n",
    "</center>"
   ]
  },
  {
   "cell_type": "code",
   "execution_count": 24,
   "id": "4a5c539c",
   "metadata": {
    "execution": {
     "iopub.execute_input": "2022-07-17T04:10:34.859799Z",
     "iopub.status.busy": "2022-07-17T04:10:34.858874Z",
     "iopub.status.idle": "2022-07-17T04:10:34.865919Z",
     "shell.execute_reply": "2022-07-17T04:10:34.864556Z"
    },
    "papermill": {
     "duration": 0.025917,
     "end_time": "2022-07-17T04:10:34.867974",
     "exception": false,
     "start_time": "2022-07-17T04:10:34.842057",
     "status": "completed"
    },
    "tags": []
   },
   "outputs": [
    {
     "name": "stdout",
     "output_type": "stream",
     "text": [
      "Precision : 80.26 %\n"
     ]
    }
   ],
   "source": [
    "# precision score\n",
    "\n",
    "precision = (TP / float(TP + FP)*100)\n",
    "\n",
    "\n",
    "print('Precision : {0:0.2f}'.format(precision),\"%\")"
   ]
  },
  {
   "cell_type": "markdown",
   "id": "4b32c711",
   "metadata": {
    "papermill": {
     "duration": 0.015043,
     "end_time": "2022-07-17T04:10:34.898511",
     "exception": false,
     "start_time": "2022-07-17T04:10:34.883468",
     "status": "completed"
    },
    "tags": []
   },
   "source": [
    "<font color=\"Fuchsia\"><h2 style=\"text-align: justify; font-family: 'Comic Sans MS'; font-size:25px; color:Fuchsia\"> Recall  </h2>"
   ]
  },
  {
   "cell_type": "markdown",
   "id": "76ab335a",
   "metadata": {
    "papermill": {
     "duration": 0.015255,
     "end_time": "2022-07-17T04:10:34.929560",
     "exception": false,
     "start_time": "2022-07-17T04:10:34.914305",
     "status": "completed"
    },
    "tags": []
   },
   "source": [
    "> Recall can be defined as the percentage of correctly predicted positive outcomes out of all the actual positive outcomes.\n",
    "It can be given as the ratio of true positives (TP) to the sum of true positives and false negatives (TP + FN). **Recall** is also called **Sensitivity**.\n",
    "\n",
    "> **Recall** identifies the proportion of correctly predicted actual positives.</font>\n",
    "\n",
    "> Mathematically, recall can be given as the ratio of **TP to (TP + FN).**</font>"
   ]
  },
  {
   "cell_type": "code",
   "execution_count": 25,
   "id": "534e14b2",
   "metadata": {
    "execution": {
     "iopub.execute_input": "2022-07-17T04:10:34.962194Z",
     "iopub.status.busy": "2022-07-17T04:10:34.961757Z",
     "iopub.status.idle": "2022-07-17T04:10:34.967964Z",
     "shell.execute_reply": "2022-07-17T04:10:34.966814Z"
    },
    "papermill": {
     "duration": 0.025425,
     "end_time": "2022-07-17T04:10:34.970516",
     "exception": false,
     "start_time": "2022-07-17T04:10:34.945091",
     "status": "completed"
    },
    "tags": []
   },
   "outputs": [
    {
     "name": "stdout",
     "output_type": "stream",
     "text": [
      "Recall or Sensitivity : 84.72 %\n"
     ]
    }
   ],
   "source": [
    "# recall score\n",
    "\n",
    "recall = (TP / float(TP + FN)*100)\n",
    "\n",
    "print('Recall or Sensitivity : {0:0.2f}'.format(recall),\"%\")"
   ]
  },
  {
   "cell_type": "markdown",
   "id": "8d11cc05",
   "metadata": {
    "papermill": {
     "duration": 0.015282,
     "end_time": "2022-07-17T04:10:35.002176",
     "exception": false,
     "start_time": "2022-07-17T04:10:34.986894",
     "status": "completed"
    },
    "tags": []
   },
   "source": [
    "<font color=\"Fuchsia\"><h2 style=\"text-align: justify; font-family: 'Comic Sans MS'; font-size:25px; color:Fuchsia\"> True Positive Rate  </h2>\n",
    "\n",
    "**True Positive Rate** is synonymous with **Recall**."
   ]
  },
  {
   "cell_type": "code",
   "execution_count": 26,
   "id": "f16718bf",
   "metadata": {
    "execution": {
     "iopub.execute_input": "2022-07-17T04:10:35.037148Z",
     "iopub.status.busy": "2022-07-17T04:10:35.036501Z",
     "iopub.status.idle": "2022-07-17T04:10:35.042628Z",
     "shell.execute_reply": "2022-07-17T04:10:35.041699Z"
    },
    "papermill": {
     "duration": 0.026657,
     "end_time": "2022-07-17T04:10:35.045383",
     "exception": false,
     "start_time": "2022-07-17T04:10:35.018726",
     "status": "completed"
    },
    "tags": []
   },
   "outputs": [
    {
     "name": "stdout",
     "output_type": "stream",
     "text": [
      "True Positive Rate : 84.72 %\n"
     ]
    }
   ],
   "source": [
    "# true_positive_rate\n",
    "\n",
    "true_positive_rate = (TP / float(TP + FN)*100)\n",
    "\n",
    "print('True Positive Rate : {0:0.2f}'.format(true_positive_rate),\"%\")"
   ]
  },
  {
   "cell_type": "markdown",
   "id": "58b633c3",
   "metadata": {
    "papermill": {
     "duration": 0.015459,
     "end_time": "2022-07-17T04:10:35.078204",
     "exception": false,
     "start_time": "2022-07-17T04:10:35.062745",
     "status": "completed"
    },
    "tags": []
   },
   "source": [
    "<font color=\"Fuchsia\"><h2 style=\"text-align: justify; font-family: 'Comic Sans MS'; font-size:25px; color:Fuchsia\"> True False Positive Rate  </h2>"
   ]
  },
  {
   "cell_type": "code",
   "execution_count": 27,
   "id": "1a2bfbf8",
   "metadata": {
    "execution": {
     "iopub.execute_input": "2022-07-17T04:10:35.111217Z",
     "iopub.status.busy": "2022-07-17T04:10:35.110799Z",
     "iopub.status.idle": "2022-07-17T04:10:35.116221Z",
     "shell.execute_reply": "2022-07-17T04:10:35.115326Z"
    },
    "papermill": {
     "duration": 0.024789,
     "end_time": "2022-07-17T04:10:35.118554",
     "exception": false,
     "start_time": "2022-07-17T04:10:35.093765",
     "status": "completed"
    },
    "tags": []
   },
   "outputs": [
    {
     "name": "stdout",
     "output_type": "stream",
     "text": [
      "False Positive Rate : 13.39 %\n"
     ]
    }
   ],
   "source": [
    "# true_positive_rate\n",
    "\n",
    "false_positive_rate = (FP / float(FP + TN)*100)\n",
    "\n",
    "print('False Positive Rate : {0:0.2f}'.format(false_positive_rate),\"%\")"
   ]
  },
  {
   "cell_type": "markdown",
   "id": "9dc19170",
   "metadata": {
    "papermill": {
     "duration": 0.015546,
     "end_time": "2022-07-17T04:10:35.149864",
     "exception": false,
     "start_time": "2022-07-17T04:10:35.134318",
     "status": "completed"
    },
    "tags": []
   },
   "source": [
    "<font color=\"Fuchsia\"><h2 style=\"text-align: justify; font-family: 'Comic Sans MS'; font-size:25px; color:Fuchsia\"> Specificity  </h2>"
   ]
  },
  {
   "cell_type": "markdown",
   "id": "ed93c2ee",
   "metadata": {
    "papermill": {
     "duration": 0.01541,
     "end_time": "2022-07-17T04:10:35.181406",
     "exception": false,
     "start_time": "2022-07-17T04:10:35.165996",
     "status": "completed"
    },
    "tags": []
   },
   "source": [
    "> Consider the example of a medical test for diagnosing a disease. Specificity relates to the test's ability to correctly reject healthy patients without a condition. Specificity of a test is the proportion of those who truly do not have the condition who test negative for the condition. Mathematically, this can also be written as:</font>\n",
    "    \n",
    "> A positive result in a test with high specificity is useful for ruling in disease. The test rarely gives positive results in healthy patients. A positive result signifies a high probability of the presence of disease.\n",
    "\n",
    "> A test with 100% specificity will recognize all patients without the disease by testing negative, so a positive test result would definitely rule in the presence of the disease. However, a negative result from a test with high specificity is not necessarily useful for ruling out disease. For example, a test that always returns a negative test result will have a specificity of 100% because specificity does not consider false negatives. \n",
    "\n",
    "> A test like that would return negative for patients with the disease, making it useless for ruling out the disease."
   ]
  },
  {
   "cell_type": "code",
   "execution_count": 28,
   "id": "191c1810",
   "metadata": {
    "execution": {
     "iopub.execute_input": "2022-07-17T04:10:35.215719Z",
     "iopub.status.busy": "2022-07-17T04:10:35.214990Z",
     "iopub.status.idle": "2022-07-17T04:10:35.220705Z",
     "shell.execute_reply": "2022-07-17T04:10:35.219451Z"
    },
    "papermill": {
     "duration": 0.026369,
     "end_time": "2022-07-17T04:10:35.223925",
     "exception": false,
     "start_time": "2022-07-17T04:10:35.197556",
     "status": "completed"
    },
    "tags": []
   },
   "outputs": [
    {
     "name": "stdout",
     "output_type": "stream",
     "text": [
      "Specificity : 86.61 %\n"
     ]
    }
   ],
   "source": [
    "# Specificity\n",
    "\n",
    "specificity = (TN / (TN + FP)*100)\n",
    "\n",
    "print('Specificity : {0:0.2f}'.format(specificity),'%')"
   ]
  },
  {
   "cell_type": "markdown",
   "id": "e5228bed",
   "metadata": {
    "papermill": {
     "duration": 0.01673,
     "end_time": "2022-07-17T04:10:35.282334",
     "exception": false,
     "start_time": "2022-07-17T04:10:35.265604",
     "status": "completed"
    },
    "tags": []
   },
   "source": [
    "<font color=\"Fuchsia\"><h2 style=\"text-align: justify; font-family: 'Comic Sans MS'; font-size:25px; color:Fuchsia\"> Sensitivity  </h2>"
   ]
  },
  {
   "cell_type": "markdown",
   "id": "4e6264ee",
   "metadata": {
    "papermill": {
     "duration": 0.015773,
     "end_time": "2022-07-17T04:10:35.313834",
     "exception": false,
     "start_time": "2022-07-17T04:10:35.298061",
     "status": "completed"
    },
    "tags": []
   },
   "source": [
    "> Consider the example of a medical test for diagnosing a condition. Sensitivity refers to the test's ability to correctly detect ill patients who do have the condition. In the example of a medical test used to identify a condition, the sensitivity (sometimes also named the detection rate in a clinical setting) of the test is the proportion of people who test positive for the disease among those who have the disease. Mathematically, this can be expressed as:\n",
    "    \n",
    "> A negative result in a test with high sensitivity is useful for ruling out disease. A high sensitivity test is reliable when its result is negative since it rarely misdiagnoses those who have the disease. A test with 100% sensitivity will recognize all patients with the disease by testing positive. A negative test result would definitively rule out presence of the disease in a patient. However, a positive result in a test with high sensitivity is not necessarily useful for ruling in disease. Suppose a 'bogus' test kit is designed to always give a positive reading. When used on diseased patients, all patients test positive, giving the test 100% sensitivity. However, sensitivity does not take into account false positives. The bogus test also returns positive on all healthy patients, giving it a false positive rate of 100%, rendering it useless for detecting or \"ruling in\" the disease.\n",
    "\n",
    "> The calculation of sensitivity does not take into account indeterminate test results. If a test cannot be repeated, indeterminate samples either should be excluded from the analysis (the number of exclusions should be stated when quoting sensitivity) or can be treated as false negatives (which gives the worst-case value for sensitivity and may therefore underestimate it).\n",
    "\n",
    "> A test with a higher sensitivity has a lower type II error rate."
   ]
  },
  {
   "cell_type": "code",
   "execution_count": 29,
   "id": "e1b7b6a6",
   "metadata": {
    "execution": {
     "iopub.execute_input": "2022-07-17T04:10:35.346956Z",
     "iopub.status.busy": "2022-07-17T04:10:35.346564Z",
     "iopub.status.idle": "2022-07-17T04:10:35.352618Z",
     "shell.execute_reply": "2022-07-17T04:10:35.351450Z"
    },
    "papermill": {
     "duration": 0.02605,
     "end_time": "2022-07-17T04:10:35.355638",
     "exception": false,
     "start_time": "2022-07-17T04:10:35.329588",
     "status": "completed"
    },
    "tags": []
   },
   "outputs": [
    {
     "name": "stdout",
     "output_type": "stream",
     "text": [
      "Specificity : 84.72 %\n"
     ]
    }
   ],
   "source": [
    "# Sensitivity\n",
    "\n",
    "Sensitivity = (TP / (TP + FN)*100)\n",
    "\n",
    "print('Specificity : {0:0.2f}'.format(Sensitivity),\"%\")"
   ]
  },
  {
   "cell_type": "markdown",
   "id": "6d8be8b8",
   "metadata": {
    "papermill": {
     "duration": 0.015587,
     "end_time": "2022-07-17T04:10:35.388019",
     "exception": false,
     "start_time": "2022-07-17T04:10:35.372432",
     "status": "completed"
    },
    "tags": []
   },
   "source": [
    "<font color=\"Fuchsia\"><h2 style=\"text-align: justify; font-family: 'Comic Sans MS'; font-size:25px; color:Fuchsia\"> f1-score  </h2>"
   ]
  },
  {
   "cell_type": "markdown",
   "id": "7ae0b618",
   "metadata": {
    "papermill": {
     "duration": 0.015591,
     "end_time": "2022-07-17T04:10:35.419749",
     "exception": false,
     "start_time": "2022-07-17T04:10:35.404158",
     "status": "completed"
    },
    "tags": []
   },
   "source": [
    "**Definition: F1 score**\n",
    "\n",
    "> Definition: F1 score is defined as the harmonic mean between precision and recall. It is used as a statistical measure to rate performance. In other words, an F1-score (from 0 to 1, 0 being lowest and 1 being the highest) is a mean of an individual’s performance, based on two factors i.e. precision and recall.\n",
    "\n",
    "**What Does F1 Score Mean?**\n",
    "\n",
    "> What is the definition of F1 score? Precision is defined as the accuracy of judgment. For example, in a random population sample of 100 people, to be counted for composition of male and female, Person A estimates the count of male population to be 70. If actually, the male count is 70 in the lot, Person A is said to have a 100% precision. Essentially, it is the ratio of estimates converting into reality.\n",
    "\n",
    "**Example**\n",
    "    \n",
    "> Recall is identifying all the units in a sample that testify to a certain attribute. In the above example, if we know that actually there is a 7:3 Male to Female ratio, and person A is able to estimate only 56 out of the 70 male in the sample, the recall ration comes down to 84%. Recall is the ability to identify the number of samples that would really count positive for a specific attribute.\n",
    "  \n",
    "> In the field of statistics, to ascribe a simple number that would easily define the precision and recall scores of a test or an individual, a number ranging from 0 to 9 is assigned to depict the accuracy. This number is the harmonic mean of the score percentages of a test on each, precision and recall.</font>\n",
    "\n",
    "> **f1-score** is the weighted harmonic mean of precision and recall. The best possible **f1-score** would be 1.0 and the worst would be 0.0.  **f1-score** is the harmonic mean of precision and recall. So, **f1-score** is always lower than accuracy measures as they embed precision and recall into their computation. The weighted average of **f1-score** should be used to compare classifier models, not global accuracy.\n",
    "\n",
    "**Theory f1 Score**\n",
    "\n",
    "> F1 score (also known as F-measure, or balanced F-score) is a metric used to measure the performance of classification machine learning models. It is a popular metric to use for classification models as it provides robust results for both balanced and imbalanced datasets, unlike accuracy, and evaluates a model's recall and precision ability. The reason F1 is able to evaluate a model's precision and recall ability is due to the way it is derived, which is as follows:  \n",
    "  \n",
    "> F1 score ranges from 0 to 1, where 1 is a perfect score indicating that the model predicts each observation correctly. A good f1 score is of course dependent on the data you are working with and the use case, for example a model predicting cancer would have a very different expectation than an abandoned cart model. However, there is a general rule of thumb when it comes to f1 scores, which is as follows:"
   ]
  },
  {
   "cell_type": "code",
   "execution_count": 30,
   "id": "0b441f09",
   "metadata": {
    "execution": {
     "iopub.execute_input": "2022-07-17T04:10:35.453381Z",
     "iopub.status.busy": "2022-07-17T04:10:35.452989Z",
     "iopub.status.idle": "2022-07-17T04:10:35.460913Z",
     "shell.execute_reply": "2022-07-17T04:10:35.460168Z"
    },
    "papermill": {
     "duration": 0.026916,
     "end_time": "2022-07-17T04:10:35.462956",
     "exception": false,
     "start_time": "2022-07-17T04:10:35.436040",
     "status": "completed"
    },
    "tags": []
   },
   "outputs": [
    {
     "name": "stdout",
     "output_type": "stream",
     "text": [
      "f1 Score :  88 %\n"
     ]
    }
   ],
   "source": [
    "# f1 score\n",
    "\n",
    "Rm_f1_score = round(f1_score(y_pred_Rm, y_test) * 100)\n",
    "print('f1 Score : ',Rm_f1_score,\"%\")"
   ]
  },
  {
   "cell_type": "markdown",
   "id": "d82e9cda",
   "metadata": {
    "papermill": {
     "duration": 0.015241,
     "end_time": "2022-07-17T04:10:35.493963",
     "exception": false,
     "start_time": "2022-07-17T04:10:35.478722",
     "status": "completed"
    },
    "tags": []
   },
   "source": [
    "<font color=\"Fuchsia\"><h2 style=\"text-align: justify; font-family: 'Comic Sans MS'; font-size:25px; color:Fuchsia\">Support  </h2>\n",
    "\n",
    "**Support** is the actual number of occurrences of the class in our dataset."
   ]
  },
  {
   "cell_type": "markdown",
   "id": "75976940",
   "metadata": {
    "papermill": {
     "duration": 0.015377,
     "end_time": "2022-07-17T04:10:35.524885",
     "exception": false,
     "start_time": "2022-07-17T04:10:35.509508",
     "status": "completed"
    },
    "tags": []
   },
   "source": [
    "<font color=\"Fuchsia\"><h2 style=\"text-align: justify; font-family: 'Comic Sans MS'; font-size:25px; color:Fuchsia\">ROC Curve </h2>"
   ]
  },
  {
   "cell_type": "markdown",
   "id": "1d3adbba",
   "metadata": {
    "papermill": {
     "duration": 0.01528,
     "end_time": "2022-07-17T04:10:35.555782",
     "exception": false,
     "start_time": "2022-07-17T04:10:35.540502",
     "status": "completed"
    },
    "tags": []
   },
   "source": [
    "*ROC Curve (Receiver Operating Characteristic)*\n",
    "\n",
    "- The ROC curve tells us how well our classifier is classifying between term deposit suscriptions (True Positives) and non-term deposit suscriptions. The X-axis is represented by False positive rates (Specificity) and the Y-axis is represented by the True Positive Rate (Sensitivity.) As the line moves the threshold of the classification changes giving us different values. The closer is the line to our top left corner the better is our model separating both classes.    \n",
    "\n",
    "*Area under the ROC curve:*\n",
    "\n",
    "- Area under the ROC (Receiver Operating Characteristic) curve : AUC - ROC curve is a performance measurement for the classification problems at various threshold settings. ROC is a probability curve and AUC represents the degree or measure of separability. It tells how much the model is capable of distinguishing between classes. Higher the AUC, the better the model is at predicting 0s as 0s and 1s as 1s. By analogy, the Higher the AUC, the better the model is at distinguishing between patients with the disease and no disease  \n"
   ]
  },
  {
   "cell_type": "markdown",
   "id": "e823c739",
   "metadata": {
    "papermill": {
     "duration": 0.015243,
     "end_time": "2022-07-17T04:10:35.586688",
     "exception": false,
     "start_time": "2022-07-17T04:10:35.571445",
     "status": "completed"
    },
    "tags": []
   },
   "source": [
    "<center>\n",
    "    <img src=\"http://web.cs.ucla.edu/~mtgarip/images/ROC_curve.png\" alt=\"ROC Curve\" width=\"80%\">\n",
    "</center"
   ]
  },
  {
   "cell_type": "code",
   "execution_count": 31,
   "id": "e2cb059f",
   "metadata": {
    "execution": {
     "iopub.execute_input": "2022-07-17T04:10:35.621200Z",
     "iopub.status.busy": "2022-07-17T04:10:35.620395Z",
     "iopub.status.idle": "2022-07-17T04:10:35.839158Z",
     "shell.execute_reply": "2022-07-17T04:10:35.838012Z"
    },
    "papermill": {
     "duration": 0.238741,
     "end_time": "2022-07-17T04:10:35.841386",
     "exception": false,
     "start_time": "2022-07-17T04:10:35.602645",
     "status": "completed"
    },
    "tags": []
   },
   "outputs": [
    {
     "data": {
      "image/png": "[encoded data removed]",
      "text/plain": [
       "<Figure size 576x432 with 1 Axes>"
      ]
     },
     "metadata": {
      "needs_background": "light"
     },
     "output_type": "display_data"
    }
   ],
   "source": [
    "plot_roc_curve(Rm, X_test, y_test);\n",
    "plt.title('Roc Curve');"
   ]
  },
  {
   "cell_type": "markdown",
   "id": "92db3eb1",
   "metadata": {
    "papermill": {
     "duration": 0.016559,
     "end_time": "2022-07-17T04:10:35.874890",
     "exception": false,
     "start_time": "2022-07-17T04:10:35.858331",
     "status": "completed"
    },
    "tags": []
   },
   "source": [
    "<font color=\"Fuchsia\"><h2 style=\"text-align: justify; font-family: 'Comic Sans MS'; font-size:25px; color:Fuchsia\">Precision Recall Curve </h2>"
   ]
  },
  {
   "cell_type": "markdown",
   "id": "bf028064",
   "metadata": {
    "papermill": {
     "duration": 0.016572,
     "end_time": "2022-07-17T04:10:35.908194",
     "exception": false,
     "start_time": "2022-07-17T04:10:35.891622",
     "status": "completed"
    },
    "tags": []
   },
   "source": [
    "> There are numerous ways to evaluate the performance of a classifier. In this article, we introduce the Precision-Recall Curve and further examine the difference between two popular performance reporting methods: Precision-Recall (PR) Curve and Receiver Operating Characteristic (ROC) Curve.\n",
    "\n",
    "> A PR curve is simply a graph with Precision values on the y-axis and Recall values on the x-axis. In other words, the PR curve contains TP/(TP+FN) on the y-axis and TP/(TP+FP) on the x-axis.   \n",
    "    \n",
    "> - It is important to note that Precision is also called the Positive Predictive Value (PPV)\n",
    "> - Recall is also called Sensitivity, Hit Rate or True Positive Rate (TPR)\n",
    "    \n",
    "**Interpreting a PR Curve**\n",
    "\n",
    "\n",
    "> It is desired that the algorithm should have both high precision, and high recall. However, most machine learning algorithms often involve a trade-off between the two. A good PR curve has greater AUC (area under curve). In the figure above, the classifier corresponding to the Orange line has better performance than the classifier corresponding to the Other lines.It is important to note that the classifier that has a higher AUC on the ROC curve will always have a higher AUC on the PR curve as well.   "
   ]
  },
  {
   "cell_type": "markdown",
   "id": "ef0a1d83",
   "metadata": {
    "papermill": {
     "duration": 0.016568,
     "end_time": "2022-07-17T04:10:35.942074",
     "exception": false,
     "start_time": "2022-07-17T04:10:35.925506",
     "status": "completed"
    },
    "tags": []
   },
   "source": [
    "<center>\n",
    "    <img src=\"https://www.researchgate.net/publication/338915798/figure/fig4/AS:853020388622336@1580387317390/Precision-recall-curve-per-model.ppm\" alt=\"Precision Recall Curve\" width=\"80%\">\n",
    "</center"
   ]
  },
  {
   "cell_type": "code",
   "execution_count": 32,
   "id": "3848f5c9",
   "metadata": {
    "execution": {
     "iopub.execute_input": "2022-07-17T04:10:35.978056Z",
     "iopub.status.busy": "2022-07-17T04:10:35.977619Z",
     "iopub.status.idle": "2022-07-17T04:10:36.192576Z",
     "shell.execute_reply": "2022-07-17T04:10:36.191477Z"
    },
    "papermill": {
     "duration": 0.236069,
     "end_time": "2022-07-17T04:10:36.194940",
     "exception": false,
     "start_time": "2022-07-17T04:10:35.958871",
     "status": "completed"
    },
    "tags": []
   },
   "outputs": [
    {
     "data": {
      "image/png": "[encoded data removed]",
      "text/plain": [
       "<Figure size 576x432 with 1 Axes>"
      ]
     },
     "metadata": {
      "needs_background": "light"
     },
     "output_type": "display_data"
    }
   ],
   "source": [
    "plot_precision_recall_curve(Rm, X_test, y_test)\n",
    "plt.title('Precision Recall Curve');"
   ]
  }
 ],
 "metadata": {
  "kernelspec": {
   "display_name": "Python 3 (ipykernel)",
   "language": "python",
   "name": "python3"
  },
  "language_info": {
   "codemirror_mode": {
    "name": "ipython",
    "version": 3
   },
   "file_extension": ".py",
   "mimetype": "text/x-python",
   "name": "python",
   "nbconvert_exporter": "python",
   "pygments_lexer": "ipython3",
   "version": "3.9.12"
  },
  "latex_envs": {
   "LaTeX_envs_menu_present": true,
   "autoclose": false,
   "autocomplete": true,
   "bibliofile": "biblio.bib",
   "cite_by": "apalike",
   "current_citInitial": 1,
   "eqLabelWithNumbers": true,
   "eqNumInitial": 1,
   "hotkeys": {
    "equation": "Ctrl-E",
    "itemize": "Ctrl-I"
   },
   "labels_anchors": false,
   "latex_user_defs": false,
   "report_style_numbering": false,
   "user_envs_cfg": false
  },
  "papermill": {
   "default_parameters": {},
   "duration": 15.681024,
   "end_time": "2022-07-17T04:10:37.034217",
   "environment_variables": {},
   "exception": null,
   "input_path": "__notebook__.ipynb",
   "output_path": "__notebook__.ipynb",
   "parameters": {},
   "start_time": "2022-07-17T04:10:21.353193",
   "version": "2.3.4"
  },
  "toc": {
   "base_numbering": 1,
   "nav_menu": {},
   "number_sections": true,
   "sideBar": true,
   "skip_h1_title": false,
   "title_cell": "Table of Contents",
   "title_sidebar": "Contents",
   "toc_cell": false,
   "toc_position": {},
   "toc_section_display": true,
   "toc_window_display": false
  }
 },
 "nbformat": 4,
 "nbformat_minor": 5
}
